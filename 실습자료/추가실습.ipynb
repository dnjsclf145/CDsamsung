{
 "cells": [
  {
   "cell_type": "markdown",
   "id": "5ab94e9b",
   "metadata": {},
   "source": [
    "#### [실습] \n",
    "1. data 폴더의 house_price_train.csv를 읽어와 'SalePrice','SaleCondition','SaleType','YrSold','LotFrontage','LotArea' 컬럼만 포함하는  DataFrame으로 df_hp 변수에저장 *[04_1.1]*\n",
    "<br>\n",
    "2. SalePrice의 최소값, 최대값, 평균값 그리고 SaleCondition의 고유항목을 출력 *[04_1.3.1]*\n",
    "<br>\n",
    "3. 수치형 데이터의 결측치(NaN)값을 일괄적으로 해당컬럼의 평균으로 채우기 *[04_2.3.3]*\n",
    "<br>\n",
    "4. LotFrontage의 데이터타입을 int형으로 바꾸기 (결측치가 있으면 오류) *[04_2.1]*\n",
    "<br>\n",
    "5. SalePrice의 히스토그램 그리기 *[06_2.1]*\n",
    "<br>\n",
    "6. SaleType의 그룹별 SalePrice의 평균을 구하여 막대그래프 그리기, x축이 SaleType, 막대높이는 SalePrice의 평균 *[05_2.2]  [06_1.1]*\n",
    "<br>\n",
    "7. YrSold의 그룹별 SalePrice의 평균을 구하여 선그래프 그리기, x축이 YrSold, y축이 SalePrice의 평균 *[05_2.2]  [06_1.2]*\n",
    "<br>\n",
    "8. LotArea가 5000보다 크고 15000보다 작은 범위에서 LotArea가 작은순으로 정렬한 데이터프레임에서 두번째 로우(관측지)만 출력 *[04_1.3]  [0.4_2.2.2]*\n",
    "<br>\n",
    "9. 8번의 정렬 결과에 LotArea가 x축, SalePrice가 y축 LotFrontage의 3분의1값이 점의 크기를 나타내는 산점도 그래프 그리기 *[04_2.3.1]  [0.6_1.3]*\n",
    "<br>\n",
    "10. 9번의 결과에 SaleCondition에 따라 색이 다르게 표현되는 산점도 그래프 그리기 *[0.6_1.3]*\n",
    "<br>\n",
    "11. YrSold의 범주 별로 SaleType의 백분율을 나타내는 교차표를 만들고 히트맵으로 출력, 특정 SaleType 총합이 1 *[05_2.2.2]  [0.6_2.2]*\n",
    "<br>\n",
    "\n",
    "12. SaleCondition, YrSold 그룹에서 SalePrice의 평균을 나타내는 피벗테이블 생성, 인덱스가 YrSold 컬럼이 SaleCondition *[05_2.2.1]*\n"
   ]
  },
  {
   "cell_type": "code",
   "execution_count": 128,
   "id": "b3f3b914",
   "metadata": {},
   "outputs": [],
   "source": [
    "import pandas as pd\n",
    "import matplotlib.pyplot as plt\n",
    "import seaborn as sns\n",
    "plt.rc('font', family='Malgun Gothic')"
   ]
  },
  {
   "cell_type": "code",
   "execution_count": null,
   "id": "947aafe8",
   "metadata": {},
   "outputs": [],
   "source": []
  },
  {
   "cell_type": "code",
   "execution_count": null,
   "id": "622837f3",
   "metadata": {},
   "outputs": [],
   "source": []
  },
  {
   "cell_type": "code",
   "execution_count": null,
   "id": "a0d8df0b",
   "metadata": {},
   "outputs": [],
   "source": []
  },
  {
   "cell_type": "code",
   "execution_count": null,
   "id": "49842ee6",
   "metadata": {},
   "outputs": [],
   "source": []
  },
  {
   "cell_type": "code",
   "execution_count": null,
   "id": "6e0380af",
   "metadata": {},
   "outputs": [],
   "source": []
  },
  {
   "cell_type": "code",
   "execution_count": null,
   "id": "b8743ea0",
   "metadata": {},
   "outputs": [],
   "source": []
  },
  {
   "cell_type": "code",
   "execution_count": null,
   "id": "f2be7400",
   "metadata": {},
   "outputs": [],
   "source": []
  },
  {
   "cell_type": "code",
   "execution_count": null,
   "id": "bb7bc45c",
   "metadata": {},
   "outputs": [],
   "source": []
  },
  {
   "cell_type": "markdown",
   "id": "8ac20e80",
   "metadata": {},
   "source": [
    "<br>\n",
    "\n",
    "\n",
    "#### [실습]\n",
    "\n",
    "1. '날짜'로부터 연-월 만 표기되는 '연월'컬럼을 만들고 '이용객수'를 1000단위의 표현으로 바꾸기(소수여도 됨) *[04_2.3.2]  [0.4_2.3.1]*  \n",
    "<br>\n",
    "\n",
    "2. 1.번의 '연월' 과 '호선'별 '이용객수'평균을 나타내는 피벗테이블을 만들고 히트맵으로 출력 (소수점 둘째자리까지) *[05_2.2.1]  [0.6_2.2]*  \n",
    "<br>\n",
    "\n",
    "3. 2.번의 피벗 결과에서 하나의 표에 '연월'에 따른 '이용객수'를 나타낸 선그래프를 하나의 표안에 '호선'별로 출력 (하나의 표에 총 8개가 그려져야함) *[0.6_1.4]*  \n"
   ]
  },
  {
   "cell_type": "code",
   "execution_count": 5,
   "id": "0358efed",
   "metadata": {},
   "outputs": [
    {
     "data": {
      "text/html": [
       "<div>\n",
       "<style scoped>\n",
       "    .dataframe tbody tr th:only-of-type {\n",
       "        vertical-align: middle;\n",
       "    }\n",
       "\n",
       "    .dataframe tbody tr th {\n",
       "        vertical-align: top;\n",
       "    }\n",
       "\n",
       "    .dataframe thead th {\n",
       "        text-align: right;\n",
       "    }\n",
       "</style>\n",
       "<table border=\"1\" class=\"dataframe\">\n",
       "  <thead>\n",
       "    <tr style=\"text-align: right;\">\n",
       "      <th></th>\n",
       "      <th>날짜</th>\n",
       "      <th>호선</th>\n",
       "      <th>역번호</th>\n",
       "      <th>역명</th>\n",
       "      <th>구분</th>\n",
       "      <th>이용객수</th>\n",
       "    </tr>\n",
       "  </thead>\n",
       "  <tbody>\n",
       "    <tr>\n",
       "      <th>0</th>\n",
       "      <td>2022-01-01</td>\n",
       "      <td>1</td>\n",
       "      <td>150</td>\n",
       "      <td>서울역</td>\n",
       "      <td>승차</td>\n",
       "      <td>18525</td>\n",
       "    </tr>\n",
       "    <tr>\n",
       "      <th>1</th>\n",
       "      <td>2022-01-01</td>\n",
       "      <td>1</td>\n",
       "      <td>150</td>\n",
       "      <td>서울역</td>\n",
       "      <td>하차</td>\n",
       "      <td>17087</td>\n",
       "    </tr>\n",
       "    <tr>\n",
       "      <th>2</th>\n",
       "      <td>2022-01-01</td>\n",
       "      <td>1</td>\n",
       "      <td>151</td>\n",
       "      <td>시청</td>\n",
       "      <td>승차</td>\n",
       "      <td>5660</td>\n",
       "    </tr>\n",
       "    <tr>\n",
       "      <th>3</th>\n",
       "      <td>2022-01-01</td>\n",
       "      <td>1</td>\n",
       "      <td>151</td>\n",
       "      <td>시청</td>\n",
       "      <td>하차</td>\n",
       "      <td>5063</td>\n",
       "    </tr>\n",
       "    <tr>\n",
       "      <th>4</th>\n",
       "      <td>2022-01-01</td>\n",
       "      <td>1</td>\n",
       "      <td>152</td>\n",
       "      <td>종각</td>\n",
       "      <td>승차</td>\n",
       "      <td>10046</td>\n",
       "    </tr>\n",
       "  </tbody>\n",
       "</table>\n",
       "</div>"
      ],
      "text/plain": [
       "           날짜  호선  역번호   역명  구분   이용객수\n",
       "0  2022-01-01   1  150  서울역  승차  18525\n",
       "1  2022-01-01   1  150  서울역  하차  17087\n",
       "2  2022-01-01   1  151   시청  승차   5660\n",
       "3  2022-01-01   1  151   시청  하차   5063\n",
       "4  2022-01-01   1  152   종각  승차  10046"
      ]
     },
     "execution_count": 5,
     "metadata": {},
     "output_type": "execute_result"
    }
   ],
   "source": [
    "df_tsb = pd.read_csv('data/서울교통공사_역별일별승하차인원정보_20220731.csv')\n",
    "df_tsb.head()"
   ]
  },
  {
   "cell_type": "code",
   "execution_count": null,
   "id": "5d43005f",
   "metadata": {},
   "outputs": [],
   "source": []
  },
  {
   "cell_type": "code",
   "execution_count": null,
   "id": "b0d65751",
   "metadata": {},
   "outputs": [],
   "source": []
  },
  {
   "cell_type": "code",
   "execution_count": null,
   "id": "675890ec",
   "metadata": {},
   "outputs": [],
   "source": []
  },
  {
   "cell_type": "code",
   "execution_count": null,
   "id": "ecb68d2b",
   "metadata": {},
   "outputs": [],
   "source": []
  }
 ],
 "metadata": {
  "kernelspec": {
   "display_name": "Python 3 (ipykernel)",
   "language": "python",
   "name": "python3"
  },
  "language_info": {
   "codemirror_mode": {
    "name": "ipython",
    "version": 3
   },
   "file_extension": ".py",
   "mimetype": "text/x-python",
   "name": "python",
   "nbconvert_exporter": "python",
   "pygments_lexer": "ipython3",
   "version": "3.10.11"
  }
 },
 "nbformat": 4,
 "nbformat_minor": 5
}
