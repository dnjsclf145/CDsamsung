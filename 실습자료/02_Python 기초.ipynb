{
 "cells": [
  {
   "cell_type": "markdown",
   "metadata": {},
   "source": [
    "# Python 기초 문법\n",
    "\n",
    "### 주요 내용\n",
    "\n",
    "1. 파이썬의 기본 정의와 데이터 타입에 대한 이해\n",
    "2. 파이썬 기본 제어문에 대한 이해\n",
    "3. 파이썬 기본 데이터구조에 대한 이해\n",
    "\n",
    "<br>\n",
    "\n",
    "### 목표 \n",
    "1. 파이썬의 기본 정의인 클래스, 함수, 변수를 이해하고 데이터타입에 대하여 배운다. \n",
    "2. if 문을 활용한 조건, for문 또는 While문을 활용한 반복 작업을 구현 한다.\n",
    "3. 리스트와 튜플, 딕셔너리 등의 기본 내장 데이터구조를 활용하여 여러개의 데이터를 저장하고 활용 한다.\n",
    "4. 외부 라이브러리로 제공되는 데이터구조를 활용해 본다.\n",
    "\n",
    "\n",
    "<br>\n",
    "<hr>\n",
    "<br>"
   ]
  },
  {
   "cell_type": "markdown",
   "metadata": {},
   "source": [
    "\n",
    "\n",
    "<br>\n",
    "\n",
    "## 1. 형식의 이해\n",
    "\n",
    "\n",
    "\n",
    "<br>\n",
    "\n",
    "\n",
    "\n",
    "### 1.1. 변수 할당\n",
    "\n",
    "변수에 데이터를 할당하므로 데이터를 지속 보관할 수 있음"
   ]
  },
  {
   "cell_type": "code",
   "execution_count": 1,
   "metadata": {},
   "outputs": [
    {
     "data": {
      "text/plain": [
       "10"
      ]
     },
     "execution_count": 1,
     "metadata": {},
     "output_type": "execute_result"
    }
   ],
   "source": [
    "# 할당(assign), 저장의 의미를 가짐\n",
    "#     적절한 표현의 변수이름을 지정하고 = 을 활용하여 할당\n",
    "num = 10\n",
    "num"
   ]
  },
  {
   "cell_type": "code",
   "execution_count": 2,
   "metadata": {},
   "outputs": [
    {
     "data": {
      "text/plain": [
       "11"
      ]
     },
     "execution_count": 2,
     "metadata": {},
     "output_type": "execute_result"
    }
   ],
   "source": [
    "# 이미 할당된 변수에 = 을 사용하면 재할당이 이루어짐\n",
    "num = 10\n",
    "num = 11\n",
    "num"
   ]
  },
  {
   "cell_type": "code",
   "execution_count": 3,
   "metadata": {},
   "outputs": [
    {
     "name": "stdout",
     "output_type": "stream",
     "text": [
      "10\n",
      "10\n"
     ]
    }
   ],
   "source": [
    "# 변수에 할당이 이루어진 또다른 변수 할당 가능\n",
    "#     print()를 활용하여 데이터를 터미털(또는 셸)에 출력 가능\n",
    "num1 = 10\n",
    "num2 = num1\n",
    "print(num1)\n",
    "print(num2)"
   ]
  },
  {
   "cell_type": "code",
   "execution_count": 4,
   "metadata": {},
   "outputs": [
    {
     "name": "stdout",
     "output_type": "stream",
     "text": [
      "11\n",
      "10\n"
     ]
    }
   ],
   "source": [
    "# 할당은 참조의 개념임을 유의할 것\n",
    "num1 = 10\n",
    "num2 = num1\n",
    "num1 = 11\n",
    "print(num1)\n",
    "print(num2)"
   ]
  },
  {
   "cell_type": "code",
   "execution_count": 5,
   "metadata": {},
   "outputs": [],
   "source": [
    "# 변수가 할당 받을수 있는것은 객체, 파이썬은 모든 데이터가 객체로 이루어져 있음\n",
    "num = 1\n",
    "name = '삼성'\n",
    "# company = Samsung()"
   ]
  },
  {
   "cell_type": "markdown",
   "metadata": {},
   "source": [
    "#### [실습] 자신의 이름을 변수 name에 할당하고 자신의 나이를 변수 age에 할당하기"
   ]
  },
  {
   "cell_type": "code",
   "execution_count": 6,
   "metadata": {},
   "outputs": [],
   "source": [
    "name = '원칠'\n",
    "age = 31"
   ]
  },
  {
   "cell_type": "markdown",
   "metadata": {},
   "source": [
    "\n",
    "<br>\n",
    "<br>\n",
    "\n",
    "### 1.2. 기본 데이터 타입(type, 형식)\n",
    "\n",
    "파이썬에서 데이터는 모두 객체로 이루어져 있어 객체에 따른 **타입(type)** 을가짐\n",
    "파이썬은 다음과 같이 기본적인 자료형 데이터를 객체로 제공\n",
    "\n",
    "* int : 정수(integer)\n",
    "* str : 문자열(string)\n",
    "* float : 소수점, 비율을 포함한 실수\n"
   ]
  },
  {
   "cell_type": "code",
   "execution_count": 7,
   "metadata": {},
   "outputs": [
    {
     "data": {
      "text/plain": [
       "int"
      ]
     },
     "execution_count": 7,
     "metadata": {},
     "output_type": "execute_result"
    }
   ],
   "source": [
    "# 정수형 타입\n",
    "#     type() 을 활용하여 데이터의 타입 확인 가능\n",
    "num = 10\n",
    "type(num)"
   ]
  },
  {
   "cell_type": "code",
   "execution_count": 8,
   "metadata": {},
   "outputs": [
    {
     "data": {
      "text/plain": [
       "float"
      ]
     },
     "execution_count": 8,
     "metadata": {},
     "output_type": "execute_result"
    }
   ],
   "source": [
    "# 실수형 타입\n",
    "num = 10.1\n",
    "type(num)"
   ]
  },
  {
   "cell_type": "code",
   "execution_count": 9,
   "metadata": {},
   "outputs": [
    {
     "data": {
      "text/plain": [
       "30"
      ]
     },
     "execution_count": 9,
     "metadata": {},
     "output_type": "execute_result"
    }
   ],
   "source": [
    "# 정수형 간의 연산자 활용\n",
    "#     숫자형 사칙연산 +, -, *, /, //, %, **\n",
    "num1 = 10\n",
    "num2 = 20\n",
    "num1 + num2"
   ]
  },
  {
   "cell_type": "code",
   "execution_count": 10,
   "metadata": {},
   "outputs": [
    {
     "data": {
      "text/plain": [
       "20.1"
      ]
     },
     "execution_count": 10,
     "metadata": {},
     "output_type": "execute_result"
    }
   ],
   "source": [
    "# 실수형 혼합 연산\n",
    "num1 = 10\n",
    "num2 = 10.1\n",
    "num1 + num2"
   ]
  },
  {
   "cell_type": "code",
   "execution_count": 11,
   "metadata": {},
   "outputs": [
    {
     "data": {
      "text/plain": [
       "2.0"
      ]
     },
     "execution_count": 11,
     "metadata": {},
     "output_type": "execute_result"
    }
   ],
   "source": [
    "# 나누기 연산시 실수형으로 변환\n",
    "num1 = 10\n",
    "num2 = 20\n",
    "num2 / num1"
   ]
  },
  {
   "cell_type": "code",
   "execution_count": 12,
   "metadata": {},
   "outputs": [
    {
     "data": {
      "text/plain": [
       "20"
      ]
     },
     "execution_count": 12,
     "metadata": {},
     "output_type": "execute_result"
    }
   ],
   "source": [
    "# += 을 활용하여 누적 연산 가능\n",
    "num = 10\n",
    "num += 10 # num = num + 10\n",
    "num"
   ]
  },
  {
   "cell_type": "code",
   "execution_count": 13,
   "metadata": {},
   "outputs": [
    {
     "name": "stdout",
     "output_type": "stream",
     "text": [
      "<class 'str'>\n",
      "<class 'str'>\n"
     ]
    }
   ],
   "source": [
    "# 문자열 타입 \n",
    "#     파이썬은 단일 문자타입 대신 문자열 타입만 존재\n",
    "#     '', \"\" 둘다 사용가능\n",
    "name1 = '삼성'\n",
    "name2 = \"전자\"\n",
    "print(type(name1))\n",
    "print(type(name2))"
   ]
  },
  {
   "cell_type": "code",
   "execution_count": 14,
   "metadata": {},
   "outputs": [
    {
     "data": {
      "text/plain": [
       "'삼성전자'"
      ]
     },
     "execution_count": 14,
     "metadata": {},
     "output_type": "execute_result"
    }
   ],
   "source": [
    "# 문자열 간의 연산 활용\n",
    "#     문자열간 연산은 숫자형과 다르게 적용\n",
    "name1 = '삼성'\n",
    "name2 = '전자'\n",
    "name1 + name2"
   ]
  },
  {
   "cell_type": "code",
   "execution_count": 15,
   "metadata": {
    "scrolled": true
   },
   "outputs": [
    {
     "data": {
      "text/plain": [
       "'삼성삼성삼성'"
      ]
     },
     "execution_count": 15,
     "metadata": {},
     "output_type": "execute_result"
    }
   ],
   "source": [
    "# 문자열과 숫자형 연산 가능\n",
    "name = '삼성'\n",
    "num = 3\n",
    "name * num"
   ]
  },
  {
   "cell_type": "code",
   "execution_count": 16,
   "metadata": {},
   "outputs": [
    {
     "name": "stdout",
     "output_type": "stream",
     "text": [
      "1일차 데이터분석 수업에 오신걸 환영합니다\n",
      "1일차 데이터분석 수업에 오신걸 환영합니다\n"
     ]
    }
   ],
   "source": [
    "# 문자열의 포맷 방법\n",
    "#     다양한 변수를 하나의 문자열로 생성   \n",
    "#     ''.format() 또는 f''를 이용\n",
    "\n",
    "num = 1\n",
    "name = '데이터분석'\n",
    "\n",
    "print('{}일차 {} 수업에 오신걸 환영합니다'.format(num, name))\n",
    "print(f'{num}일차 {name} 수업에 오신걸 환영합니다')"
   ]
  },
  {
   "cell_type": "code",
   "execution_count": 17,
   "metadata": {},
   "outputs": [
    {
     "data": {
      "text/plain": [
       "bool"
      ]
     },
     "execution_count": 17,
     "metadata": {},
     "output_type": "execute_result"
    }
   ],
   "source": [
    "# bool 타입\n",
    "#     True와 False로 표현됨\n",
    "#     False는 0, True는 0이외의 값으로 표현\n",
    "t = True\n",
    "f = False\n",
    "type(t)"
   ]
  },
  {
   "cell_type": "code",
   "execution_count": 18,
   "metadata": {},
   "outputs": [
    {
     "name": "stdout",
     "output_type": "stream",
     "text": [
      "False\n",
      "True\n",
      "True\n",
      "False\n"
     ]
    }
   ],
   "source": [
    "# 비교연산자의 활용\n",
    "num1 = 100\n",
    "num2 = 10\n",
    "\n",
    "print(num1 == num2)\n",
    "print(num1 != num2)\n",
    "print(num1 > num2)\n",
    "print(num1 <= num2)\n"
   ]
  },
  {
   "cell_type": "code",
   "execution_count": 19,
   "metadata": {},
   "outputs": [
    {
     "name": "stdout",
     "output_type": "stream",
     "text": [
      "True\n",
      "False\n",
      "True\n",
      "False\n"
     ]
    }
   ],
   "source": [
    "# 논리 연산 활용\n",
    "print(True and True)\n",
    "print(True and False)\n",
    "print(True or False)\n",
    "print(False or False)"
   ]
  },
  {
   "cell_type": "code",
   "execution_count": 20,
   "metadata": {},
   "outputs": [
    {
     "name": "stdout",
     "output_type": "stream",
     "text": [
      "10 10.0 10 10\n",
      "<class 'int'> <class 'float'> <class 'int'> <class 'str'>\n"
     ]
    }
   ],
   "source": [
    "# 데이터 타입 변환 (형변환)\n",
    "#     파이썬에서 int(),float(),str()등 내장함수로 제공 \n",
    "num1 = int(10.1)\n",
    "num2 = float(10)\n",
    "num3 = int('10')\n",
    "num4 = str(10)\n",
    "print(num1, num2, num3, num4)\n",
    "print(type(num1), type(num2), type(num3), type(num4))"
   ]
  },
  {
   "cell_type": "markdown",
   "metadata": {},
   "source": [
    "#### [실습] x에 10.1을 저장하고, y에 101을 저장한 다음 더한후 정수로 출력"
   ]
  },
  {
   "cell_type": "code",
   "execution_count": null,
   "metadata": {},
   "outputs": [],
   "source": []
  },
  {
   "cell_type": "markdown",
   "metadata": {},
   "source": [
    "#### [실습] a=1, b=5로 할당하고 문자 'a + b는'과 a+b 계산 결과를 print( )로 함께 출력\n",
    "\n",
    "출력 결과 예시  \n",
    "`1 + 5는 6`"
   ]
  },
  {
   "cell_type": "code",
   "execution_count": null,
   "metadata": {},
   "outputs": [],
   "source": []
  },
  {
   "cell_type": "markdown",
   "metadata": {},
   "source": [
    "### 1.3. 객체와 함수\n",
    "\n",
    "#### def을 통해 특정 기능을 수행하는 함수 정의\n",
    "\n",
    "    def 함수이름(인자1,인자2):\n",
    "        return 반환\n",
    "    \n",
    "함수에서 사용되는 데이터는 일시적으로 존재"
   ]
  },
  {
   "cell_type": "code",
   "execution_count": 21,
   "metadata": {},
   "outputs": [
    {
     "data": {
      "text/plain": [
       "30"
      ]
     },
     "execution_count": 21,
     "metadata": {},
     "output_type": "execute_result"
    }
   ],
   "source": [
    "# def 을 통한 함수 정의\n",
    "#     파이썬은 TAB(들여쓰기)기준으로 코드 실행영역을 지정\n",
    "\n",
    "\n",
    "def concat(arg1, arg2): # 함수이름은 모두 소문자 단어구분 _\n",
    "    cat = arg1 + arg2\n",
    "    return cat\n",
    "\n",
    "# 함수 이름을 통한 함수 실행(사용)\n",
    "out = concat(10, 20)\n",
    "out"
   ]
  },
  {
   "cell_type": "code",
   "execution_count": 22,
   "metadata": {
    "scrolled": false
   },
   "outputs": [
    {
     "ename": "NameError",
     "evalue": "name 'data1' is not defined",
     "output_type": "error",
     "traceback": [
      "\u001b[1;31m---------------------------------------------------------------------------\u001b[0m",
      "\u001b[1;31mNameError\u001b[0m                                 Traceback (most recent call last)",
      "Cell \u001b[1;32mIn [22], line 8\u001b[0m\n\u001b[0;32m      5\u001b[0m     data1 \u001b[38;5;241m=\u001b[39m \u001b[38;5;241m100\u001b[39m\n\u001b[0;32m      7\u001b[0m fun1()\n\u001b[1;32m----> 8\u001b[0m \u001b[38;5;28mprint\u001b[39m(\u001b[43mdata1\u001b[49m)\n",
      "\u001b[1;31mNameError\u001b[0m: name 'data1' is not defined"
     ]
    }
   ],
   "source": [
    "# 함수 내부의 변수는 외부에서 접근 불가(return 제외)\n",
    "#     인자(parameter)와 반환(return)적절히 활용 \n",
    "    \n",
    "def fun1():\n",
    "    data1 = 100\n",
    "\n",
    "fun1()\n",
    "print(data1)"
   ]
  },
  {
   "cell_type": "markdown",
   "metadata": {},
   "source": [
    "#### 실제 객체는 class라는 명령어로 정의\n",
    "\n",
    "    class 객체이름:\n",
    "        self.변수 및 메소드\n",
    "\n",
    "class 상태는 단순 코드 상태, 실제 지속적으로 존재하는 상태는 인스턴스"
   ]
  },
  {
   "cell_type": "code",
   "execution_count": 23,
   "metadata": {},
   "outputs": [],
   "source": [
    "# class를 통해 객체 정의 \n",
    "\n",
    "class Samsung: #클래스 이름은 맨앞글자 대문자 단어구분 대문자\n",
    "    \n",
    "    def __init__(self, name): # 생성자 메소드 클래스->인스턴스 과정에 실행되는 함수\n",
    "        self.name = name # self.name 변수와 name 지역변수는 다른 변수\n",
    "    \n",
    "    def get_name(self): # 메소드 정의 인스턴스 상태일때 .으로 사용 \n",
    "        return self.name\n"
   ]
  },
  {
   "cell_type": "code",
   "execution_count": 24,
   "metadata": {
    "scrolled": true
   },
   "outputs": [
    {
     "data": {
      "text/plain": [
       "'삼성'"
      ]
     },
     "execution_count": 24,
     "metadata": {},
     "output_type": "execute_result"
    }
   ],
   "source": [
    "# 클래스의 인스턴스화 및 인스턴스 활용\n",
    "#     클래스 이름을 통해 변수에 할당하여 인스턴스화\n",
    "#     . 을 통해 클래스의 메소드 및 self변수 사용\n",
    "\n",
    "company = Samsung('삼성') # 인스턴스화 __init__ 함수가 실행\n",
    "company.get_name() # 인스턴스 변수에서 .메소드"
   ]
  },
  {
   "cell_type": "markdown",
   "metadata": {},
   "source": [
    "#### [실습] 다음 클래스를 활용해 자신의 이름과 나이가 들어간 인스턴스 변수(member)생성하고, 메소드를 통해 다음 문구 출력\n",
    "\n",
    "`저의 이름은 000, 나이는 00 입니다.`"
   ]
  },
  {
   "cell_type": "code",
   "execution_count": 25,
   "metadata": {},
   "outputs": [],
   "source": [
    "class Member:\n",
    "    def __init__(self, name, age):\n",
    "        self.name = name\n",
    "        self.age = age \n",
    "    def print_info(self):\n",
    "        return f'저의 이름은 {self.name} 나이는 {self.age} 입니다.'"
   ]
  },
  {
   "cell_type": "code",
   "execution_count": null,
   "metadata": {},
   "outputs": [],
   "source": []
  },
  {
   "cell_type": "markdown",
   "metadata": {},
   "source": [
    "<br>\n",
    "\n",
    "## 2. 흐름 제어문의 활용\n",
    "\n",
    "### 2.1. if 조건문  \n",
    "\n",
    "**if** 를 활용하여 특정한 상황에서만 명령어를 실행 가능  \n",
    "**else**나  **elif**를 추가로 활용 가능  "
   ]
  },
  {
   "cell_type": "code",
   "execution_count": 26,
   "metadata": {},
   "outputs": [],
   "source": [
    "# if의 활용\n",
    "score=10\n",
    "\n",
    "if score >=80:\n",
    "    print('합격')"
   ]
  },
  {
   "cell_type": "code",
   "execution_count": 27,
   "metadata": {},
   "outputs": [
    {
     "name": "stdout",
     "output_type": "stream",
     "text": [
      "탈락\n"
     ]
    }
   ],
   "source": [
    "# if와 else의 활용\n",
    "score=10\n",
    "\n",
    "if score >=80:\n",
    "    print('합격')\n",
    "else:\n",
    "    print('탈락')"
   ]
  },
  {
   "cell_type": "code",
   "execution_count": 28,
   "metadata": {},
   "outputs": [
    {
     "name": "stdout",
     "output_type": "stream",
     "text": [
      "미응시\n",
      "미응시\n"
     ]
    }
   ],
   "source": [
    "# if와 elif와 else의 활용\n",
    "score = None # 결측\n",
    "\n",
    "if score is None:\n",
    "    print('미응시')\n",
    "else:\n",
    "    if score >=80:\n",
    "        print('합격')\n",
    "    else:\n",
    "        print('탈락')\n",
    "\n",
    "if score is None:\n",
    "    print('미응시')\n",
    "elif score >=80:\n",
    "    print('합격')\n",
    "else:\n",
    "    print('탈락')"
   ]
  },
  {
   "cell_type": "markdown",
   "metadata": {},
   "source": [
    "<br>\n",
    "\n",
    "### 2.2. for 반복문\n",
    "**for**는 반복 대상을 지정하고 특정한 명령을 반복 실행\n",
    "\n",
    "    for 변수 in 이터러블:\n",
    "        반복코드"
   ]
  },
  {
   "cell_type": "code",
   "execution_count": 29,
   "metadata": {},
   "outputs": [
    {
     "name": "stdout",
     "output_type": "stream",
     "text": [
      "0번째 반복\n",
      "1번째 반복\n",
      "2번째 반복\n",
      "3번째 반복\n",
      "4번째 반복\n"
     ]
    }
   ],
   "source": [
    "\n",
    "for i in range(0,5):\n",
    "    print(f'{i}번째 반복')"
   ]
  },
  {
   "cell_type": "code",
   "execution_count": 30,
   "metadata": {},
   "outputs": [
    {
     "name": "stdout",
     "output_type": "stream",
     "text": [
      "0번째 값은 0\n",
      "1번째 값은 1\n",
      "2번째 값은 3\n",
      "3번째 값은 6\n",
      "4번째 값은 10\n"
     ]
    }
   ],
   "source": [
    "count = 0\n",
    "\n",
    "for i in [0,1,2,3,4]:\n",
    "    count += i ## 반복할 때마다 i를 더함   \n",
    "    print(f'{i}번째 값은 {count}')"
   ]
  },
  {
   "cell_type": "code",
   "execution_count": 31,
   "metadata": {},
   "outputs": [
    {
     "data": {
      "text/plain": [
       "10"
      ]
     },
     "execution_count": 31,
     "metadata": {},
     "output_type": "execute_result"
    }
   ],
   "source": [
    "count"
   ]
  },
  {
   "cell_type": "code",
   "execution_count": 32,
   "metadata": {},
   "outputs": [
    {
     "name": "stdout",
     "output_type": "stream",
     "text": [
      "3은 3의 배수입니다.\n"
     ]
    }
   ],
   "source": [
    "# for문 안에서 if문을 활용\n",
    "\n",
    "for a in range(1,10):\n",
    "    if a % 3 == 0: # 3로 나눈 나머지가 0이면\n",
    "        print(f'{a}은 3의 배수입니다.')\n",
    "    if a % 5 == 0:\n",
    "        break"
   ]
  },
  {
   "cell_type": "markdown",
   "metadata": {},
   "source": [
    "<br>\n",
    "\n",
    "#### [실습]\n",
    "\n",
    "1. 구구단 19단 출력하기  \n",
    "`19 X 1 = 19`  \n",
    "`19 X 2 = 38 ... ` \n",
    "\n",
    "2. 아래의 숫자 리스트 *x* 에서 10 이상인 숫자만 따로 모아 합계 계산하기\n"
   ]
  },
  {
   "cell_type": "code",
   "execution_count": 33,
   "metadata": {},
   "outputs": [
    {
     "name": "stdout",
     "output_type": "stream",
     "text": [
      "19 X 1 = 19\n"
     ]
    }
   ],
   "source": [
    "#1. 참고\n",
    "print(f'{19} X {1} = {19}')"
   ]
  },
  {
   "cell_type": "code",
   "execution_count": null,
   "metadata": {},
   "outputs": [],
   "source": []
  },
  {
   "cell_type": "code",
   "execution_count": 34,
   "metadata": {},
   "outputs": [],
   "source": [
    "#2. \n",
    "x = [9, 10, 4, 22, 3, 19]"
   ]
  },
  {
   "cell_type": "code",
   "execution_count": null,
   "metadata": {},
   "outputs": [],
   "source": []
  },
  {
   "cell_type": "markdown",
   "metadata": {},
   "source": [
    "\n",
    "<br>\n",
    "\n",
    "## 3. 여러 값을 묶은 데이터구조\n",
    "\n",
    "`1`, `'삼성'`처럼 하나의 값이 아니라 여러개의 값을 특정 구조로 저장\n",
    "\n",
    "- 리스트(list)\n",
    "- 튜플(tuple), 문자열(str)\n",
    "- 사전(dictionary)\n",
    "\n",
    "순서(인덱스가)가 있는 데이터구조는 **이터러블**"
   ]
  },
  {
   "cell_type": "markdown",
   "metadata": {},
   "source": [
    "### 3.1. 가변 시퀀스 리스트\n",
    "\n",
    "- 가변 시퀀스형으로 내부값을 자유롭게 바꿀수 있음\n",
    "- 내부를 변형해주는 다양한 메소드 포함\n",
    "- 순서(인덱스) 기반으로 데이터를 저장하고 찾아옴\n",
    "\n",
    "#### 리스트 생성 과 표현\n",
    "> 리스는 []로 표현"
   ]
  },
  {
   "cell_type": "code",
   "execution_count": 35,
   "metadata": {},
   "outputs": [
    {
     "name": "stdout",
     "output_type": "stream",
     "text": [
      "<class 'list'>\n",
      "[5000, 6000, 7000, 6000, 9000]\n"
     ]
    }
   ],
   "source": [
    "# []안에 데이터를 넣어 생성\n",
    "salary = [5000, 6000, 7000, 6000, 9000]\n",
    "print(type(salary))\n",
    "print(salary)"
   ]
  },
  {
   "cell_type": "code",
   "execution_count": 36,
   "metadata": {},
   "outputs": [
    {
     "name": "stdout",
     "output_type": "stream",
     "text": [
      "['회로설계', '반도체공정설계', '신호 및 시스템 설계', 'S/W개발', '영업마케팅', '경영지원', '생산관리']\n",
      "['회로설계', 5000, '반도체공정설계', 6000, 'S/W개발', 7000]\n"
     ]
    }
   ],
   "source": [
    "# 다양한 타입이 들어올 수 있음\n",
    "jobs = ['회로설계', '반도체공정설계', '신호 및 시스템 설계', 'S/W개발', '영업마케팅', '경영지원', '생산관리']\n",
    "print(jobs)\n",
    "sample = ['회로설계', 5000, '반도체공정설계', 6000, 'S/W개발', 7000]\n",
    "print(sample)"
   ]
  },
  {
   "cell_type": "code",
   "execution_count": 37,
   "metadata": {},
   "outputs": [
    {
     "name": "stdout",
     "output_type": "stream",
     "text": [
      "[1, 2, 3, 4, 5, 6, 7, 8, 9]\n"
     ]
    },
    {
     "data": {
      "text/plain": [
       "[7, 14, 21, 28, 35, 42, 49, 56, 63, 70, 77, 84, 91, 98]"
      ]
     },
     "execution_count": 37,
     "metadata": {},
     "output_type": "execute_result"
    }
   ],
   "source": [
    "# for문과 if문을 활용한 리스트생성\n",
    "seq_num = [x for x in range(1,10)]\n",
    "print(seq_num)\n",
    "seven_mul = [x for x in range(1,101) if x%7==0]\n",
    "seven_mul"
   ]
  },
  {
   "cell_type": "code",
   "execution_count": 38,
   "metadata": {},
   "outputs": [
    {
     "name": "stdout",
     "output_type": "stream",
     "text": [
      "[]\n",
      "[1, 2, 3, 4, 5, 6, 7, 8, 9, 10, 11, 12, 13, 14, 15, 16, 17, 18, 19]\n"
     ]
    }
   ],
   "source": [
    "# list() 함수 활용하여 생성\n",
    "empty = list()\n",
    "print(empty)\n",
    "seq = list(range(1, 20))\n",
    "print(seq)"
   ]
  },
  {
   "cell_type": "code",
   "execution_count": null,
   "metadata": {},
   "outputs": [],
   "source": []
  },
  {
   "cell_type": "markdown",
   "metadata": {},
   "source": [
    "\n",
    "#### [실습] 점심/저녁 메뉴 3개를 리스트로 묶어 menu로 저장하기 \n"
   ]
  },
  {
   "cell_type": "code",
   "execution_count": null,
   "metadata": {},
   "outputs": [],
   "source": []
  },
  {
   "cell_type": "markdown",
   "metadata": {},
   "source": [
    "#### [실습] 1~45까지 숫자 중에서  6의 배수 숫자만 리스트로 만들어 저장하기\n"
   ]
  },
  {
   "cell_type": "code",
   "execution_count": null,
   "metadata": {},
   "outputs": [],
   "source": []
  },
  {
   "cell_type": "markdown",
   "metadata": {},
   "source": [
    "<br>\n",
    "\n",
    "#### 리스트의 주요 메서드\n"
   ]
  },
  {
   "cell_type": "code",
   "execution_count": 39,
   "metadata": {},
   "outputs": [
    {
     "data": {
      "text/plain": [
       "[5000, 6000, 7000, 6000, 9000, 10000]"
      ]
     },
     "execution_count": 39,
     "metadata": {},
     "output_type": "execute_result"
    }
   ],
   "source": [
    "# append : 리스트 맨뒤에 항목 추가하기\n",
    "\n",
    "salary = [5000, 6000, 7000, 6000, 9000]\n",
    "salary.append(10000)\n",
    "salary"
   ]
  },
  {
   "cell_type": "code",
   "execution_count": 40,
   "metadata": {},
   "outputs": [
    {
     "name": "stdout",
     "output_type": "stream",
     "text": [
      "[5000, 6000, 7000, 6000, 9000, [6000, 5000]]\n",
      "[5000, 6000, 7000, 6000, 9000, 6000, 5000]\n"
     ]
    }
   ],
   "source": [
    "# extend : 또다른 리스트를 이어 붙이기(구조내 요소를 추가)\n",
    "\n",
    "salary = [5000, 6000, 7000, 6000, 9000]\n",
    "salary.append([6000, 5000])\n",
    "print(salary)\n",
    "\n",
    "salary = [5000, 6000, 7000, 6000, 9000]\n",
    "salary.extend([6000, 5000])\n",
    "print(salary)"
   ]
  },
  {
   "cell_type": "code",
   "execution_count": 41,
   "metadata": {},
   "outputs": [
    {
     "name": "stdout",
     "output_type": "stream",
     "text": [
      "[5000, 6000, 6000, 7000, 9000]\n",
      "[6000, 7000, 6000, 5000, 9000]\n"
     ]
    }
   ],
   "source": [
    "# sort : 내부 요소를 정렬\n",
    "# reverse : 내부 요소를 반대로 구성\n",
    "\n",
    "salary = [9000, 5000, 6000, 7000, 6000]\n",
    "salary.sort()\n",
    "print(salary)\n",
    "\n",
    "salary = [9000, 5000, 6000, 7000, 6000]\n",
    "salary.reverse()\n",
    "print(salary)"
   ]
  },
  {
   "cell_type": "markdown",
   "metadata": {},
   "source": [
    "#### [실습] 관심있는 메뉴 3개를 묶은 menu 리스트를 생성하고 append( )로 메뉴 하나 더 추가하기\n",
    "\n"
   ]
  },
  {
   "cell_type": "code",
   "execution_count": null,
   "metadata": {},
   "outputs": [],
   "source": []
  },
  {
   "cell_type": "markdown",
   "metadata": {},
   "source": [
    "#### [실습] 다음 두 리스트를 이어붙이고 이름 순으로 정렬하여 출력하기\n"
   ]
  },
  {
   "cell_type": "code",
   "execution_count": 42,
   "metadata": {},
   "outputs": [],
   "source": [
    "list1 = ['a','f','c']\n",
    "list2 = ['b','e']\n"
   ]
  },
  {
   "cell_type": "code",
   "execution_count": null,
   "metadata": {},
   "outputs": [],
   "source": []
  },
  {
   "cell_type": "markdown",
   "metadata": {},
   "source": [
    "<br>\n",
    "\n",
    "### 3.2. 시퀀스 연산자 활용   \n",
    "\n",
    "> 파이썬에서 제공하는 데이터구조는 []를 이용하여 원하는 데이터에 접근 가능\n",
    "\n",
    "#### 리스트에서 시퀀스 연산자에 index(순서) 를 넣어 원하는 데이터에 접근"
   ]
  },
  {
   "cell_type": "code",
   "execution_count": 43,
   "metadata": {},
   "outputs": [
    {
     "name": "stdout",
     "output_type": "stream",
     "text": [
      "5000\n",
      "7000\n"
     ]
    }
   ],
   "source": [
    "# [index]를 활용한 데이터 선택\n",
    "#     index는 0부터 시작 : 첫번째 값이 0\n",
    "salary = [5000, 6000, 7000, 6000, 9000]\n",
    "print(salary[0])\n",
    "print(salary[2])"
   ]
  },
  {
   "cell_type": "code",
   "execution_count": 44,
   "metadata": {},
   "outputs": [
    {
     "name": "stdout",
     "output_type": "stream",
     "text": [
      "[5000, 6000, 7000]\n",
      "[7000, 6000]\n"
     ]
    }
   ],
   "source": [
    "# [start:end]을 활용해 범위 지정 가능(슬라이싱), 끝 인덱스 미포함\n",
    "salary = [5000, 6000, 7000, 6000, 9000]\n",
    "print(salary[:3])\n",
    "print(salary[2:4])"
   ]
  },
  {
   "cell_type": "code",
   "execution_count": 45,
   "metadata": {},
   "outputs": [
    {
     "name": "stdout",
     "output_type": "stream",
     "text": [
      "9000\n",
      "[7000, 6000, 9000]\n"
     ]
    }
   ],
   "source": [
    "# 음수 인덱스로 뒤에순서를 지정 가능\n",
    "salary = [5000, 6000, 7000, 6000, 9000]\n",
    "print(salary[-1])\n",
    "print(salary[-3:])"
   ]
  },
  {
   "cell_type": "code",
   "execution_count": 46,
   "metadata": {},
   "outputs": [
    {
     "data": {
      "text/plain": [
       "[50000, 6000, 7000, 6000, 9000]"
      ]
     },
     "execution_count": 46,
     "metadata": {},
     "output_type": "execute_result"
    }
   ],
   "source": [
    "# 인덱스를 활용한 업데이트\n",
    "salary[0] = 50000\n",
    "salary"
   ]
  },
  {
   "cell_type": "markdown",
   "metadata": {},
   "source": [
    "#### [실습] menu에서 첫번째 메뉴만 선택\n",
    "\n",
    "\n",
    "#### [실습] menu에서 세번째 메뉴를 '우동'으로 변경\n",
    "\n"
   ]
  },
  {
   "cell_type": "code",
   "execution_count": 47,
   "metadata": {},
   "outputs": [],
   "source": [
    "menu = ['돈까스', '삼겹살', '치킨']"
   ]
  },
  {
   "cell_type": "code",
   "execution_count": null,
   "metadata": {},
   "outputs": [],
   "source": []
  },
  {
   "cell_type": "code",
   "execution_count": null,
   "metadata": {},
   "outputs": [],
   "source": []
  },
  {
   "cell_type": "markdown",
   "metadata": {},
   "source": [
    "<br>\n",
    "\n",
    "### 3.3. 불변 시퀀스 튜플(tuple)과 문자열(str)\n",
    "튜블과 문자열은 내부적으로 구조를 바꿀수 없는 불변 시퀀스형\n",
    "\n",
    "<br>\n",
    "\n",
    "#### 튜플 생성 및 표현\n",
    "> 튜플은 ()를 활용해서 만들 수 있고, 소괄호는 생략 가능\n",
    "\n"
   ]
  },
  {
   "cell_type": "code",
   "execution_count": 48,
   "metadata": {},
   "outputs": [
    {
     "name": "stdout",
     "output_type": "stream",
     "text": [
      "(1, 2, 3)\n",
      "('아침', '점심', '저녁')\n"
     ]
    }
   ],
   "source": [
    "aa = (1, 2, 3)\n",
    "bb = '아침', '점심', '저녁'\n",
    "\n",
    "print(aa)\n",
    "print(bb)"
   ]
  },
  {
   "cell_type": "code",
   "execution_count": 49,
   "metadata": {},
   "outputs": [
    {
     "name": "stdout",
     "output_type": "stream",
     "text": [
      "1\n",
      "('점심', '저녁')\n"
     ]
    }
   ],
   "source": [
    "# 인덱스 활용하여 시퀀스 연산 가능\n",
    "print(aa[0])\n",
    "print(bb[1:])"
   ]
  },
  {
   "cell_type": "code",
   "execution_count": 50,
   "metadata": {},
   "outputs": [
    {
     "name": "stdout",
     "output_type": "stream",
     "text": [
      "아침\n",
      "점심\n"
     ]
    }
   ],
   "source": [
    "# 튜플 요소의 순서를 맞추어 변수 할당 가능\n",
    "\n",
    "a, b = ('아침', '점심')\n",
    "print(a)\n",
    "print(b)"
   ]
  },
  {
   "cell_type": "code",
   "execution_count": 51,
   "metadata": {},
   "outputs": [
    {
     "ename": "TypeError",
     "evalue": "'tuple' object does not support item assignment",
     "output_type": "error",
     "traceback": [
      "\u001b[1;31m---------------------------------------------------------------------------\u001b[0m",
      "\u001b[1;31mTypeError\u001b[0m                                 Traceback (most recent call last)",
      "Cell \u001b[1;32mIn [51], line 2\u001b[0m\n\u001b[0;32m      1\u001b[0m \u001b[38;5;66;03m# 추가/업데이트 불가능, 내부 변환 메소드도 없음\u001b[39;00m\n\u001b[1;32m----> 2\u001b[0m \u001b[43maa\u001b[49m\u001b[43m[\u001b[49m\u001b[38;5;241;43m0\u001b[39;49m\u001b[43m]\u001b[49m \u001b[38;5;241m=\u001b[39m \u001b[38;5;241m4\u001b[39m\n",
      "\u001b[1;31mTypeError\u001b[0m: 'tuple' object does not support item assignment"
     ]
    }
   ],
   "source": [
    "# 추가/업데이트 불가능, 내부 변환 메소드도 없음\n",
    "aa[0] = 4"
   ]
  },
  {
   "cell_type": "markdown",
   "metadata": {},
   "source": [
    "#### 문자열 데이터구조 활용\n",
    "> 자료형에서 본 문자열은 실제 불변시퀀스의 데이터구조형태를 가짐, 불변시퀀스형이지만 다양한 메소드가 있음(복사 반환)"
   ]
  },
  {
   "cell_type": "code",
   "execution_count": 52,
   "metadata": {},
   "outputs": [
    {
     "name": "stdout",
     "output_type": "stream",
     "text": [
      "썬\n",
      "기초\n"
     ]
    }
   ],
   "source": [
    "# 인덱스 활용하여 시퀀스 연산 가능 (할당은 불가)\n",
    "s = '파이썬 기초 데이터구조'\n",
    "print(s[2])\n",
    "print(s[4:6])"
   ]
  },
  {
   "cell_type": "code",
   "execution_count": 53,
   "metadata": {},
   "outputs": [
    {
     "data": {
      "text/plain": [
       "'파이썬 심화 데이터구조'"
      ]
     },
     "execution_count": 53,
     "metadata": {},
     "output_type": "execute_result"
    }
   ],
   "source": [
    "# replace() : 원하는 부분문자열을 다른 문자열로 대체\n",
    "s = '파이썬 기초 데이터구조'\n",
    "s = s.replace('기초', '심화')\n",
    "s"
   ]
  },
  {
   "cell_type": "code",
   "execution_count": 54,
   "metadata": {},
   "outputs": [
    {
     "data": {
      "text/plain": [
       "'파이썬 기초 데이터구조'"
      ]
     },
     "execution_count": 54,
     "metadata": {},
     "output_type": "execute_result"
    }
   ],
   "source": [
    "# strip() : 앞뒤 공백 제거\n",
    "s = '   파이썬 기초 데이터구조  '\n",
    "s = s.strip()\n",
    "s"
   ]
  },
  {
   "cell_type": "code",
   "execution_count": 55,
   "metadata": {},
   "outputs": [
    {
     "data": {
      "text/plain": [
       "['파이썬', '기초', '데이터구조']"
      ]
     },
     "execution_count": 55,
     "metadata": {},
     "output_type": "execute_result"
    }
   ],
   "source": [
    "# split() : 원하는 문자열을 기준으로 분리하여 리스트생성\n",
    "s = '파이썬 기초 데이터구조'\n",
    "s = s.split(' ') # 공백(띄어쓰기) 기준으로 분리\n",
    "s\n"
   ]
  },
  {
   "cell_type": "markdown",
   "metadata": {},
   "source": [
    "#### [실습] 다음 s1 문자열을 활용하여 print()안의 문자열이 다음처럼 출력되게 포맷을 완성\n",
    "\n",
    "나는 빨리 퇴근 하고 싶다. 하지만 퇴근 시간은 1시간 이나 남아있다."
   ]
  },
  {
   "cell_type": "code",
   "execution_count": null,
   "metadata": {},
   "outputs": [],
   "source": [
    "s ='하지만, 퇴근, 1시간'\n",
    "print(f'나는 빨리 {} 하고 싶다. {} 퇴근 시간은 {} 이나 남아있다.')"
   ]
  },
  {
   "cell_type": "code",
   "execution_count": null,
   "metadata": {},
   "outputs": [],
   "source": []
  },
  {
   "cell_type": "markdown",
   "metadata": {},
   "source": [
    "### 3.4. 해쉬셋과  딕셔너리\n",
    "순서가 아닌 해쉬를 기반으로 데이터를 구조적으로 저장\n",
    "\n",
    "#### 해쉬셋 생성 과 표현\n",
    "> 해쉬셋은 {}로 표현되며 해쉬특성으로 인해 내부 요소는 고유값을 가지고 순서가 없음"
   ]
  },
  {
   "cell_type": "code",
   "execution_count": 58,
   "metadata": {},
   "outputs": [
    {
     "data": {
      "text/plain": [
       "{'덮밥', '돈까스', '우동', '치킨'}"
      ]
     },
     "execution_count": 58,
     "metadata": {},
     "output_type": "execute_result"
    }
   ],
   "source": [
    "# 순서가 없는 해쉬셋\n",
    "s = {'돈까스','치킨','덮밥'}\n",
    "s.add('우동')\n",
    "s"
   ]
  },
  {
   "cell_type": "code",
   "execution_count": 59,
   "metadata": {},
   "outputs": [
    {
     "data": {
      "text/plain": [
       "{'덮밥', '돈까스', '치킨'}"
      ]
     },
     "execution_count": 59,
     "metadata": {},
     "output_type": "execute_result"
    }
   ],
   "source": [
    "set(['돈까스','치킨','덮밥','덮밥'])"
   ]
  },
  {
   "cell_type": "code",
   "execution_count": 60,
   "metadata": {},
   "outputs": [
    {
     "data": {
      "text/plain": [
       "{'덮밥', '돈까스', '치킨'}"
      ]
     },
     "execution_count": 60,
     "metadata": {},
     "output_type": "execute_result"
    }
   ],
   "source": [
    "# 중복이 되지 않는 해쉬셋\n",
    "s = {'돈까스','치킨','덮밥'}\n",
    "s.add('덮밥')\n",
    "s"
   ]
  },
  {
   "cell_type": "markdown",
   "metadata": {},
   "source": [
    "#### 딕셔너리 생성 과 특징\n",
    "\n",
    "- 딕셔너리는 *키(key)* 와 *값(value)* 을 mapping하여 여러 값을 구분해서 저장\n",
    "- *key*는 해쉬특성을 가져 찾는 속도가 빠름\n",
    "- 웹통신 데이터뭉치인 json형과 비슷한 구조로 많이 활용\n",
    "\n",
    "> 해쉬셋과 동일한 {}로 만들어지며 요소가 단일값이 아닌 {key:value} 형태로 맵핑하여 생성 \n"
   ]
  },
  {
   "cell_type": "code",
   "execution_count": 61,
   "metadata": {},
   "outputs": [
    {
     "data": {
      "text/plain": [
       "{'회사': '삼성전자', '분석도구': 'Python', '기간': '3일'}"
      ]
     },
     "execution_count": 61,
     "metadata": {},
     "output_type": "execute_result"
    }
   ],
   "source": [
    "# 이 강의의 속성을 딕셔너리로 저장\n",
    "this_lecture = {'회사':'삼성전자', '분석도구':'Python', '기간':'3일'}\n",
    "this_lecture"
   ]
  },
  {
   "cell_type": "code",
   "execution_count": 62,
   "metadata": {},
   "outputs": [
    {
     "data": {
      "text/plain": [
       "'삼성전자'"
      ]
     },
     "execution_count": 62,
     "metadata": {},
     "output_type": "execute_result"
    }
   ],
   "source": [
    "# 키를 활용 시퀀스 연산자 활용\n",
    "this_lecture['회사']"
   ]
  },
  {
   "cell_type": "code",
   "execution_count": 63,
   "metadata": {},
   "outputs": [
    {
     "data": {
      "text/plain": [
       "0"
      ]
     },
     "execution_count": 63,
     "metadata": {},
     "output_type": "execute_result"
    }
   ],
   "source": [
    "# 메서드 get()을 활용한 선택\n",
    "this_lecture.get('회사1',0)"
   ]
  },
  {
   "cell_type": "code",
   "execution_count": 64,
   "metadata": {},
   "outputs": [
    {
     "data": {
      "text/plain": [
       "{'회사': '삼성전자', '분석도구': 'Python', '기간': '3일', '수강인원': 20}"
      ]
     },
     "execution_count": 64,
     "metadata": {},
     "output_type": "execute_result"
    }
   ],
   "source": [
    "# 시퀀스 연산자에 새로운 키를 넣고 할당하여 키:값 추가\n",
    "this_lecture['수강인원'] = 20\n",
    "this_lecture"
   ]
  },
  {
   "cell_type": "code",
   "execution_count": 65,
   "metadata": {},
   "outputs": [
    {
     "data": {
      "text/plain": [
       "{'회사': '삼성전자', '분석도구': 'Python', '기간': '4일', '수강인원': 20}"
      ]
     },
     "execution_count": 65,
     "metadata": {},
     "output_type": "execute_result"
    }
   ],
   "source": [
    "# 시퀀스 연산자에 기존 키를 넣고 할당하여 값 변경\n",
    "this_lecture['기간'] = '4일'\n",
    "this_lecture\n"
   ]
  },
  {
   "cell_type": "code",
   "execution_count": 66,
   "metadata": {},
   "outputs": [
    {
     "data": {
      "text/plain": [
       "{'회사': '삼성전자', '분석도구': 'Python', '수강인원': 20}"
      ]
     },
     "execution_count": 66,
     "metadata": {},
     "output_type": "execute_result"
    }
   ],
   "source": [
    "# del 연산을 활용한 키:값 제거\n",
    "del this_lecture['기간']\n",
    "this_lecture"
   ]
  },
  {
   "cell_type": "code",
   "execution_count": 67,
   "metadata": {},
   "outputs": [
    {
     "data": {
      "text/plain": [
       "dict_keys(['회사', '분석도구', '수강인원'])"
      ]
     },
     "execution_count": 67,
     "metadata": {},
     "output_type": "execute_result"
    }
   ],
   "source": [
    "# 키 목록 반환\n",
    "this_lecture.keys()"
   ]
  },
  {
   "cell_type": "code",
   "execution_count": 68,
   "metadata": {},
   "outputs": [
    {
     "data": {
      "text/plain": [
       "['회사', '분석도구', '수강인원']"
      ]
     },
     "execution_count": 68,
     "metadata": {},
     "output_type": "execute_result"
    }
   ],
   "source": [
    "# 리스트 형식으로 변환\n",
    "list(this_lecture.keys())"
   ]
  },
  {
   "cell_type": "code",
   "execution_count": 69,
   "metadata": {},
   "outputs": [
    {
     "data": {
      "text/plain": [
       "['회사', '분석도구', '수강인원']"
      ]
     },
     "execution_count": 69,
     "metadata": {},
     "output_type": "execute_result"
    }
   ],
   "source": [
    "list(this_lecture)"
   ]
  },
  {
   "cell_type": "code",
   "execution_count": 70,
   "metadata": {},
   "outputs": [
    {
     "data": {
      "text/plain": [
       "dict_values(['삼성전자', 'Python', 20])"
      ]
     },
     "execution_count": 70,
     "metadata": {},
     "output_type": "execute_result"
    }
   ],
   "source": [
    "# 값 목록 반환\n",
    "this_lecture.values()"
   ]
  },
  {
   "cell_type": "markdown",
   "metadata": {},
   "source": [
    "#### [실습] 각자 본인의 아래 정보를 딕셔너리로 저장\n",
    "\n",
    "(딕셔너리의 값(value)에 리스트를 넣는 것도 가능)\n",
    "\n",
    "* 이름\n",
    "* 부서\n",
    "* 연차\n",
    "* 관심메뉴 3개(리스트로 구성)\n",
    "\n"
   ]
  },
  {
   "cell_type": "code",
   "execution_count": 71,
   "metadata": {},
   "outputs": [],
   "source": [
    "my_info = {}"
   ]
  },
  {
   "cell_type": "code",
   "execution_count": null,
   "metadata": {},
   "outputs": [],
   "source": []
  },
  {
   "cell_type": "markdown",
   "metadata": {},
   "source": [
    "<br>\n",
    "\n",
    "## 4. numpy와 DataFrame\n",
    "파이썬 내장 데이터구조가 아닌 외부 라이브러리로 제공되는 대표적인 데이터구조\n"
   ]
  },
  {
   "cell_type": "markdown",
   "metadata": {},
   "source": [
    "\n",
    "### 4.1 numpy를 활용한 배열\n",
    "**numpy**는 **ndarray**라는 형식을 활용해서 다차원의 배열형식을 만들고 다양한 연산과 처리를 지원\n",
    "- 배열은 리스트와 비슷하지만 구조적인 차이로 크기가 고정됨\n",
    "- 배열은 여러개의 **축(axis)** 이 있는 다차원의 **형상(shape)** 을 가짐 \n",
    "\n",
    "#### 배열생성 과 특징\n",
    "> array()함수를 활용하여 배열생성, shape로 형상 출력가능"
   ]
  },
  {
   "cell_type": "code",
   "execution_count": 72,
   "metadata": {},
   "outputs": [],
   "source": [
    "import numpy as np"
   ]
  },
  {
   "cell_type": "code",
   "execution_count": 73,
   "metadata": {},
   "outputs": [
    {
     "name": "stdout",
     "output_type": "stream",
     "text": [
      "[1 2 4 8]\n",
      "(4,)\n"
     ]
    }
   ],
   "source": [
    "x = [1, 2, 4, 8]\n",
    "y = np.array(x)\n",
    "print(y)\n",
    "print(y.shape)"
   ]
  },
  {
   "cell_type": "code",
   "execution_count": 74,
   "metadata": {},
   "outputs": [
    {
     "name": "stdout",
     "output_type": "stream",
     "text": [
      "(2, 4)\n",
      "(2, 2)\n"
     ]
    }
   ],
   "source": [
    "# 배열의 형상은 (0번축 크기, 1번축 크기, ...)로 표현됨\n",
    "\n",
    "y2 = np.array([ [1,2,3,4], [9,8,7,6] ])\n",
    "y3 = np.array([ [0, 1], [1, 0] ])\n",
    "\n",
    "print(y2.shape)\n",
    "print(y3.shape)"
   ]
  },
  {
   "cell_type": "code",
   "execution_count": 75,
   "metadata": {},
   "outputs": [
    {
     "name": "stdout",
     "output_type": "stream",
     "text": [
      "[1 2 4]\n",
      "4\n",
      "[9 8]\n"
     ]
    }
   ],
   "source": [
    "# 시퀀스 연산자 활용\n",
    "print(y[:3])\n",
    "print(y2[0,3])\n",
    "print(y2[1,0:2])"
   ]
  },
  {
   "cell_type": "code",
   "execution_count": 76,
   "metadata": {},
   "outputs": [
    {
     "data": {
      "text/plain": [
       "array([[ 1, 10,  3,  4],\n",
       "       [ 9,  8,  7,  6]])"
      ]
     },
     "execution_count": 76,
     "metadata": {},
     "output_type": "execute_result"
    }
   ],
   "source": [
    "y2[0,1] = 10\n",
    "y2"
   ]
  },
  {
   "cell_type": "code",
   "execution_count": 77,
   "metadata": {},
   "outputs": [
    {
     "data": {
      "text/plain": [
       "array([[ 3, 21,  7,  9],\n",
       "       [19, 17, 15, 13]])"
      ]
     },
     "execution_count": 77,
     "metadata": {},
     "output_type": "execute_result"
    }
   ],
   "source": [
    "# 일괄 산술 연산\n",
    "y2 * 2 + 1"
   ]
  },
  {
   "cell_type": "code",
   "execution_count": 78,
   "metadata": {},
   "outputs": [
    {
     "name": "stdout",
     "output_type": "stream",
     "text": [
      "[1.         1.41421356 2.         2.82842712]\n",
      "[ 1  4 16 64]\n",
      "[0.         0.69314718 1.38629436 2.07944154]\n",
      "[2.71828183e+00 7.38905610e+00 5.45981500e+01 2.98095799e+03]\n"
     ]
    }
   ],
   "source": [
    "# 다양한 연산 함수 제공\n",
    "print(np.sqrt(y)) # 제곱근\n",
    "print(np.power(y, 2)) # 거듭제곱\n",
    "print(np.log(y)) # 자연로그\n",
    "print(np.exp(y)) # 지수\n"
   ]
  },
  {
   "cell_type": "code",
   "execution_count": 79,
   "metadata": {},
   "outputs": [
    {
     "data": {
      "text/plain": [
       "array([[ 1, 10],\n",
       "       [ 3,  4],\n",
       "       [ 9,  8],\n",
       "       [ 7,  6]])"
      ]
     },
     "execution_count": 79,
     "metadata": {},
     "output_type": "execute_result"
    }
   ],
   "source": [
    "# 배열 형상 변환\n",
    "np.reshape(y2, (4,2))"
   ]
  },
  {
   "cell_type": "code",
   "execution_count": 80,
   "metadata": {},
   "outputs": [
    {
     "data": {
      "text/plain": [
       "array([[ 1,  9],\n",
       "       [10,  8],\n",
       "       [ 3,  7],\n",
       "       [ 4,  6]])"
      ]
     },
     "execution_count": 80,
     "metadata": {},
     "output_type": "execute_result"
    }
   ],
   "source": [
    "# 행렬 배열 역변환\n",
    "np.transpose(y2)"
   ]
  },
  {
   "cell_type": "markdown",
   "metadata": {},
   "source": [
    "\n",
    "### 4.2 DataFrame을 활용한 테이블형\n",
    "**pandas**는 **DataFrame**이라는 형식을 활용해서 테이블형 데이터구조를 만들고 다양한 연산과 처리를 지원\n",
    "- 테이블형 구조는 **row(행,관측지)** 과 **column(열,변수)** 로 표현되는 2차원 구조\n",
    "- 데이터베이스(sql)이나 엑셀 형태와 비슷하여 많이 사용\n",
    "\n",
    "#### DataFrame생성 과 특징\n",
    "> DataFrame()객체 활용하여 생성, 테이블형 구조가 가능해야함"
   ]
  },
  {
   "cell_type": "code",
   "execution_count": 81,
   "metadata": {},
   "outputs": [],
   "source": [
    "# 라이브러리 불러오기\n",
    "import pandas as pd"
   ]
  },
  {
   "cell_type": "code",
   "execution_count": 82,
   "metadata": {},
   "outputs": [
    {
     "data": {
      "text/html": [
       "<div>\n",
       "<style scoped>\n",
       "    .dataframe tbody tr th:only-of-type {\n",
       "        vertical-align: middle;\n",
       "    }\n",
       "\n",
       "    .dataframe tbody tr th {\n",
       "        vertical-align: top;\n",
       "    }\n",
       "\n",
       "    .dataframe thead th {\n",
       "        text-align: right;\n",
       "    }\n",
       "</style>\n",
       "<table border=\"1\" class=\"dataframe\">\n",
       "  <thead>\n",
       "    <tr style=\"text-align: right;\">\n",
       "      <th></th>\n",
       "      <th>FIRST</th>\n",
       "      <th>SECOND</th>\n",
       "      <th>THIRD</th>\n",
       "    </tr>\n",
       "  </thead>\n",
       "  <tbody>\n",
       "    <tr>\n",
       "      <th>0</th>\n",
       "      <td>A</td>\n",
       "      <td>7</td>\n",
       "      <td>2023</td>\n",
       "    </tr>\n",
       "    <tr>\n",
       "      <th>1</th>\n",
       "      <td>B</td>\n",
       "      <td>6</td>\n",
       "      <td>2022</td>\n",
       "    </tr>\n",
       "    <tr>\n",
       "      <th>2</th>\n",
       "      <td>C</td>\n",
       "      <td>5</td>\n",
       "      <td>2021</td>\n",
       "    </tr>\n",
       "    <tr>\n",
       "      <th>3</th>\n",
       "      <td>D</td>\n",
       "      <td>8</td>\n",
       "      <td>2020</td>\n",
       "    </tr>\n",
       "  </tbody>\n",
       "</table>\n",
       "</div>"
      ],
      "text/plain": [
       "  FIRST  SECOND THIRD\n",
       "0     A       7  2023\n",
       "1     B       6  2022\n",
       "2     C       5  2021\n",
       "3     D       8  2020"
      ]
     },
     "execution_count": 82,
     "metadata": {},
     "output_type": "execute_result"
    }
   ],
   "source": [
    "# 딕셔너리를 활용한 DataFrame 생성\n",
    "df = pd.DataFrame({'FIRST' : ['A', 'B', 'C', 'D'],\n",
    "                   'SECOND': [7,6,5,8], \n",
    "                   'THIRD' : ['2023','2022','2021','2020']}) # freq='W-MON' : 매주 월요일\n",
    "df"
   ]
  },
  {
   "cell_type": "code",
   "execution_count": 83,
   "metadata": {
    "scrolled": false
   },
   "outputs": [
    {
     "data": {
      "text/html": [
       "<div>\n",
       "<style scoped>\n",
       "    .dataframe tbody tr th:only-of-type {\n",
       "        vertical-align: middle;\n",
       "    }\n",
       "\n",
       "    .dataframe tbody tr th {\n",
       "        vertical-align: top;\n",
       "    }\n",
       "\n",
       "    .dataframe thead th {\n",
       "        text-align: right;\n",
       "    }\n",
       "</style>\n",
       "<table border=\"1\" class=\"dataframe\">\n",
       "  <thead>\n",
       "    <tr style=\"text-align: right;\">\n",
       "      <th></th>\n",
       "      <th>FIRST</th>\n",
       "      <th>SECOND</th>\n",
       "      <th>THIRD</th>\n",
       "    </tr>\n",
       "  </thead>\n",
       "  <tbody>\n",
       "    <tr>\n",
       "      <th>0</th>\n",
       "      <td>A</td>\n",
       "      <td>7</td>\n",
       "      <td>2023</td>\n",
       "    </tr>\n",
       "    <tr>\n",
       "      <th>1</th>\n",
       "      <td>B</td>\n",
       "      <td>6</td>\n",
       "      <td>2022</td>\n",
       "    </tr>\n",
       "    <tr>\n",
       "      <th>2</th>\n",
       "      <td>C</td>\n",
       "      <td>5</td>\n",
       "      <td>2021</td>\n",
       "    </tr>\n",
       "    <tr>\n",
       "      <th>3</th>\n",
       "      <td>D</td>\n",
       "      <td>8</td>\n",
       "      <td>2020</td>\n",
       "    </tr>\n",
       "  </tbody>\n",
       "</table>\n",
       "</div>"
      ],
      "text/plain": [
       "  FIRST  SECOND THIRD\n",
       "0     A       7  2023\n",
       "1     B       6  2022\n",
       "2     C       5  2021\n",
       "3     D       8  2020"
      ]
     },
     "execution_count": 83,
     "metadata": {},
     "output_type": "execute_result"
    }
   ],
   "source": [
    "# 2차원 구조이면 생성 가능 \n",
    "df = pd.DataFrame([['A',7,'2023'],\n",
    "                   ['B',6,'2022'],\n",
    "                   ['C',5,'2021'],\n",
    "                   ['D',8,'2020']], \n",
    "                  columns = ['FIRST', 'SECOND', 'THIRD']) # freq='W-MON' : 매주 월요일\n",
    "df"
   ]
  },
  {
   "cell_type": "code",
   "execution_count": 84,
   "metadata": {},
   "outputs": [
    {
     "data": {
      "text/html": [
       "<div>\n",
       "<style scoped>\n",
       "    .dataframe tbody tr th:only-of-type {\n",
       "        vertical-align: middle;\n",
       "    }\n",
       "\n",
       "    .dataframe tbody tr th {\n",
       "        vertical-align: top;\n",
       "    }\n",
       "\n",
       "    .dataframe thead th {\n",
       "        text-align: right;\n",
       "    }\n",
       "</style>\n",
       "<table border=\"1\" class=\"dataframe\">\n",
       "  <thead>\n",
       "    <tr style=\"text-align: right;\">\n",
       "      <th></th>\n",
       "      <th>FIRST</th>\n",
       "      <th>SECOND</th>\n",
       "      <th>THIRD</th>\n",
       "    </tr>\n",
       "  </thead>\n",
       "  <tbody>\n",
       "    <tr>\n",
       "      <th>0</th>\n",
       "      <td>A</td>\n",
       "      <td>7</td>\n",
       "      <td>2023</td>\n",
       "    </tr>\n",
       "    <tr>\n",
       "      <th>1</th>\n",
       "      <td>B</td>\n",
       "      <td>6</td>\n",
       "      <td>2022</td>\n",
       "    </tr>\n",
       "    <tr>\n",
       "      <th>2</th>\n",
       "      <td>C</td>\n",
       "      <td>5</td>\n",
       "      <td>2021</td>\n",
       "    </tr>\n",
       "    <tr>\n",
       "      <th>3</th>\n",
       "      <td>D</td>\n",
       "      <td>8</td>\n",
       "      <td>2020</td>\n",
       "    </tr>\n",
       "  </tbody>\n",
       "</table>\n",
       "</div>"
      ],
      "text/plain": [
       "  FIRST  SECOND  THIRD\n",
       "0     A       7   2023\n",
       "1     B       6   2022\n",
       "2     C       5   2021\n",
       "3     D       8   2020"
      ]
     },
     "execution_count": 84,
     "metadata": {},
     "output_type": "execute_result"
    }
   ],
   "source": [
    "df = pd.DataFrame([{'FIRST':'A','SECOND':7,'THIRD': 2023},\n",
    "                   {'FIRST':'B','SECOND':6,'THIRD': 2022},\n",
    "                   {'FIRST':'C','SECOND':5,'THIRD': 2021},\n",
    "                   {'FIRST':'D','SECOND':8,'THIRD': 2020}])\n",
    "df"
   ]
  },
  {
   "cell_type": "markdown",
   "metadata": {},
   "source": [
    "#### DataFrame에서 시퀀스 연산자 활용\n",
    "> DataFrame에서 시퀀스 연산자[]는 해당 컬럼의 값들을 가져옵니다.  \n",
    ">.loc[] 또는 .iloc[]를 통해 인덱스의 값들을 가져올 수 있습니다."
   ]
  },
  {
   "cell_type": "code",
   "execution_count": 85,
   "metadata": {},
   "outputs": [
    {
     "data": {
      "text/plain": [
       "0    7\n",
       "1    6\n",
       "2    5\n",
       "3    8\n",
       "Name: SECOND, dtype: int64"
      ]
     },
     "execution_count": 85,
     "metadata": {},
     "output_type": "execute_result"
    }
   ],
   "source": [
    "# []활용한 하나의 컬럼 가져오기\n",
    "#     DataFrame에서 하나의 축만 가져오면 pandas의 Serise구조로 표현\n",
    "\n",
    "df['SECOND']"
   ]
  },
  {
   "cell_type": "code",
   "execution_count": 86,
   "metadata": {},
   "outputs": [
    {
     "data": {
      "text/plain": [
       "0    7\n",
       "1    6\n",
       "2    5\n",
       "3    8\n",
       "Name: SECOND, dtype: int64"
      ]
     },
     "execution_count": 86,
     "metadata": {},
     "output_type": "execute_result"
    }
   ],
   "source": [
    "# .컬럼명 활용과 동일\n",
    "\n",
    "df.SECOND"
   ]
  },
  {
   "cell_type": "code",
   "execution_count": 87,
   "metadata": {},
   "outputs": [
    {
     "data": {
      "text/html": [
       "<div>\n",
       "<style scoped>\n",
       "    .dataframe tbody tr th:only-of-type {\n",
       "        vertical-align: middle;\n",
       "    }\n",
       "\n",
       "    .dataframe tbody tr th {\n",
       "        vertical-align: top;\n",
       "    }\n",
       "\n",
       "    .dataframe thead th {\n",
       "        text-align: right;\n",
       "    }\n",
       "</style>\n",
       "<table border=\"1\" class=\"dataframe\">\n",
       "  <thead>\n",
       "    <tr style=\"text-align: right;\">\n",
       "      <th></th>\n",
       "      <th>FIRST</th>\n",
       "      <th>THIRD</th>\n",
       "    </tr>\n",
       "  </thead>\n",
       "  <tbody>\n",
       "    <tr>\n",
       "      <th>0</th>\n",
       "      <td>A</td>\n",
       "      <td>2023</td>\n",
       "    </tr>\n",
       "    <tr>\n",
       "      <th>1</th>\n",
       "      <td>B</td>\n",
       "      <td>2022</td>\n",
       "    </tr>\n",
       "    <tr>\n",
       "      <th>2</th>\n",
       "      <td>C</td>\n",
       "      <td>2021</td>\n",
       "    </tr>\n",
       "    <tr>\n",
       "      <th>3</th>\n",
       "      <td>D</td>\n",
       "      <td>2020</td>\n",
       "    </tr>\n",
       "  </tbody>\n",
       "</table>\n",
       "</div>"
      ],
      "text/plain": [
       "  FIRST  THIRD\n",
       "0     A   2023\n",
       "1     B   2022\n",
       "2     C   2021\n",
       "3     D   2020"
      ]
     },
     "execution_count": 87,
     "metadata": {},
     "output_type": "execute_result"
    }
   ],
   "source": [
    "# 리스트를 활용한 여러 컬럼 가져오기\n",
    "\n",
    "df[['FIRST','THIRD']]"
   ]
  },
  {
   "cell_type": "code",
   "execution_count": 88,
   "metadata": {},
   "outputs": [
    {
     "data": {
      "text/html": [
       "<div>\n",
       "<style scoped>\n",
       "    .dataframe tbody tr th:only-of-type {\n",
       "        vertical-align: middle;\n",
       "    }\n",
       "\n",
       "    .dataframe tbody tr th {\n",
       "        vertical-align: top;\n",
       "    }\n",
       "\n",
       "    .dataframe thead th {\n",
       "        text-align: right;\n",
       "    }\n",
       "</style>\n",
       "<table border=\"1\" class=\"dataframe\">\n",
       "  <thead>\n",
       "    <tr style=\"text-align: right;\">\n",
       "      <th></th>\n",
       "      <th>FIRST</th>\n",
       "      <th>SECOND</th>\n",
       "      <th>THIRD</th>\n",
       "      <th>FOURTH</th>\n",
       "    </tr>\n",
       "  </thead>\n",
       "  <tbody>\n",
       "    <tr>\n",
       "      <th>0</th>\n",
       "      <td>A</td>\n",
       "      <td>7</td>\n",
       "      <td>2023</td>\n",
       "      <td>10</td>\n",
       "    </tr>\n",
       "    <tr>\n",
       "      <th>1</th>\n",
       "      <td>B</td>\n",
       "      <td>6</td>\n",
       "      <td>2022</td>\n",
       "      <td>10</td>\n",
       "    </tr>\n",
       "    <tr>\n",
       "      <th>2</th>\n",
       "      <td>C</td>\n",
       "      <td>5</td>\n",
       "      <td>2021</td>\n",
       "      <td>10</td>\n",
       "    </tr>\n",
       "    <tr>\n",
       "      <th>3</th>\n",
       "      <td>D</td>\n",
       "      <td>8</td>\n",
       "      <td>2020</td>\n",
       "      <td>10</td>\n",
       "    </tr>\n",
       "  </tbody>\n",
       "</table>\n",
       "</div>"
      ],
      "text/plain": [
       "  FIRST  SECOND  THIRD  FOURTH\n",
       "0     A       7   2023      10\n",
       "1     B       6   2022      10\n",
       "2     C       5   2021      10\n",
       "3     D       8   2020      10"
      ]
     },
     "execution_count": 88,
     "metadata": {},
     "output_type": "execute_result"
    }
   ],
   "source": [
    "# DataFrame에 컬럼생성 및 일괄 추가\n",
    "df['FOURTH'] = 10\n",
    "df"
   ]
  },
  {
   "cell_type": "code",
   "execution_count": 89,
   "metadata": {},
   "outputs": [
    {
     "data": {
      "text/html": [
       "<div>\n",
       "<style scoped>\n",
       "    .dataframe tbody tr th:only-of-type {\n",
       "        vertical-align: middle;\n",
       "    }\n",
       "\n",
       "    .dataframe tbody tr th {\n",
       "        vertical-align: top;\n",
       "    }\n",
       "\n",
       "    .dataframe thead th {\n",
       "        text-align: right;\n",
       "    }\n",
       "</style>\n",
       "<table border=\"1\" class=\"dataframe\">\n",
       "  <thead>\n",
       "    <tr style=\"text-align: right;\">\n",
       "      <th></th>\n",
       "      <th>FIRST</th>\n",
       "      <th>SECOND</th>\n",
       "      <th>THIRD</th>\n",
       "      <th>FOURTH</th>\n",
       "    </tr>\n",
       "  </thead>\n",
       "  <tbody>\n",
       "    <tr>\n",
       "      <th>0</th>\n",
       "      <td>A</td>\n",
       "      <td>7</td>\n",
       "      <td>2023</td>\n",
       "      <td>남자</td>\n",
       "    </tr>\n",
       "    <tr>\n",
       "      <th>1</th>\n",
       "      <td>B</td>\n",
       "      <td>6</td>\n",
       "      <td>2022</td>\n",
       "      <td>여자</td>\n",
       "    </tr>\n",
       "    <tr>\n",
       "      <th>2</th>\n",
       "      <td>C</td>\n",
       "      <td>5</td>\n",
       "      <td>2021</td>\n",
       "      <td>여자</td>\n",
       "    </tr>\n",
       "    <tr>\n",
       "      <th>3</th>\n",
       "      <td>D</td>\n",
       "      <td>8</td>\n",
       "      <td>2020</td>\n",
       "      <td>남자</td>\n",
       "    </tr>\n",
       "  </tbody>\n",
       "</table>\n",
       "</div>"
      ],
      "text/plain": [
       "  FIRST  SECOND  THIRD FOURTH\n",
       "0     A       7   2023     남자\n",
       "1     B       6   2022     여자\n",
       "2     C       5   2021     여자\n",
       "3     D       8   2020     남자"
      ]
     },
     "execution_count": 89,
     "metadata": {},
     "output_type": "execute_result"
    }
   ],
   "source": [
    "# DataFrame에 컬럼생성 및 일괄 추가\n",
    "df['FOURTH'] = ['남자','여자','여자','남자']\n",
    "df"
   ]
  },
  {
   "cell_type": "code",
   "execution_count": 90,
   "metadata": {},
   "outputs": [
    {
     "data": {
      "text/html": [
       "<div>\n",
       "<style scoped>\n",
       "    .dataframe tbody tr th:only-of-type {\n",
       "        vertical-align: middle;\n",
       "    }\n",
       "\n",
       "    .dataframe tbody tr th {\n",
       "        vertical-align: top;\n",
       "    }\n",
       "\n",
       "    .dataframe thead th {\n",
       "        text-align: right;\n",
       "    }\n",
       "</style>\n",
       "<table border=\"1\" class=\"dataframe\">\n",
       "  <thead>\n",
       "    <tr style=\"text-align: right;\">\n",
       "      <th></th>\n",
       "      <th>FIRST</th>\n",
       "      <th>SECOND</th>\n",
       "      <th>THIRD</th>\n",
       "      <th>FOURTH</th>\n",
       "    </tr>\n",
       "  </thead>\n",
       "  <tbody>\n",
       "    <tr>\n",
       "      <th>1</th>\n",
       "      <td>B</td>\n",
       "      <td>6</td>\n",
       "      <td>2022</td>\n",
       "      <td>여자</td>\n",
       "    </tr>\n",
       "    <tr>\n",
       "      <th>2</th>\n",
       "      <td>C</td>\n",
       "      <td>5</td>\n",
       "      <td>2021</td>\n",
       "      <td>여자</td>\n",
       "    </tr>\n",
       "  </tbody>\n",
       "</table>\n",
       "</div>"
      ],
      "text/plain": [
       "  FIRST  SECOND  THIRD FOURTH\n",
       "1     B       6   2022     여자\n",
       "2     C       5   2021     여자"
      ]
     },
     "execution_count": 90,
     "metadata": {},
     "output_type": "execute_result"
    }
   ],
   "source": [
    "# row 순서에 해당하는 데이터 또한 가져올 수 있음\n",
    "df[1:3]"
   ]
  },
  {
   "cell_type": "code",
   "execution_count": 91,
   "metadata": {},
   "outputs": [
    {
     "data": {
      "text/html": [
       "<div>\n",
       "<style scoped>\n",
       "    .dataframe tbody tr th:only-of-type {\n",
       "        vertical-align: middle;\n",
       "    }\n",
       "\n",
       "    .dataframe tbody tr th {\n",
       "        vertical-align: top;\n",
       "    }\n",
       "\n",
       "    .dataframe thead th {\n",
       "        text-align: right;\n",
       "    }\n",
       "</style>\n",
       "<table border=\"1\" class=\"dataframe\">\n",
       "  <thead>\n",
       "    <tr style=\"text-align: right;\">\n",
       "      <th></th>\n",
       "      <th>FIRST</th>\n",
       "      <th>SECOND</th>\n",
       "      <th>THIRD</th>\n",
       "    </tr>\n",
       "  </thead>\n",
       "  <tbody>\n",
       "    <tr>\n",
       "      <th>A</th>\n",
       "      <td>7</td>\n",
       "      <td>2023</td>\n",
       "      <td>남자</td>\n",
       "    </tr>\n",
       "    <tr>\n",
       "      <th>B</th>\n",
       "      <td>6</td>\n",
       "      <td>2022</td>\n",
       "      <td>여자</td>\n",
       "    </tr>\n",
       "    <tr>\n",
       "      <th>C</th>\n",
       "      <td>5</td>\n",
       "      <td>2021</td>\n",
       "      <td>여자</td>\n",
       "    </tr>\n",
       "    <tr>\n",
       "      <th>D</th>\n",
       "      <td>8</td>\n",
       "      <td>2020</td>\n",
       "      <td>남자</td>\n",
       "    </tr>\n",
       "  </tbody>\n",
       "</table>\n",
       "</div>"
      ],
      "text/plain": [
       "   FIRST SECOND THIRD\n",
       "A      7   2023    남자\n",
       "B      6   2022    여자\n",
       "C      5   2021    여자\n",
       "D      8   2020    남자"
      ]
     },
     "execution_count": 91,
     "metadata": {},
     "output_type": "execute_result"
    }
   ],
   "source": [
    "# 문자열 인덱스로 생성\n",
    "df = pd.DataFrame([[7,'2023','남자'],\n",
    "                   [6,'2022','여자'],\n",
    "                   [5,'2021','여자'],\n",
    "                   [8,'2020','남자']], \n",
    "                  index = ['A','B','C','D'],\n",
    "                  columns = ['FIRST', 'SECOND', 'THIRD'])\n",
    "df"
   ]
  },
  {
   "cell_type": "code",
   "execution_count": 92,
   "metadata": {},
   "outputs": [
    {
     "data": {
      "text/plain": [
       "FIRST        7\n",
       "SECOND    2023\n",
       "THIRD       남자\n",
       "Name: A, dtype: object"
      ]
     },
     "execution_count": 92,
     "metadata": {},
     "output_type": "execute_result"
    }
   ],
   "source": [
    "# loc[]를 활용한 하나의 로우 가져오기\n",
    "\n",
    "df.loc['A']\n"
   ]
  },
  {
   "cell_type": "code",
   "execution_count": 93,
   "metadata": {},
   "outputs": [
    {
     "data": {
      "text/html": [
       "<div>\n",
       "<style scoped>\n",
       "    .dataframe tbody tr th:only-of-type {\n",
       "        vertical-align: middle;\n",
       "    }\n",
       "\n",
       "    .dataframe tbody tr th {\n",
       "        vertical-align: top;\n",
       "    }\n",
       "\n",
       "    .dataframe thead th {\n",
       "        text-align: right;\n",
       "    }\n",
       "</style>\n",
       "<table border=\"1\" class=\"dataframe\">\n",
       "  <thead>\n",
       "    <tr style=\"text-align: right;\">\n",
       "      <th></th>\n",
       "      <th>FIRST</th>\n",
       "      <th>SECOND</th>\n",
       "      <th>THIRD</th>\n",
       "    </tr>\n",
       "  </thead>\n",
       "  <tbody>\n",
       "    <tr>\n",
       "      <th>A</th>\n",
       "      <td>7</td>\n",
       "      <td>2023</td>\n",
       "      <td>남자</td>\n",
       "    </tr>\n",
       "    <tr>\n",
       "      <th>C</th>\n",
       "      <td>5</td>\n",
       "      <td>2021</td>\n",
       "      <td>여자</td>\n",
       "    </tr>\n",
       "  </tbody>\n",
       "</table>\n",
       "</div>"
      ],
      "text/plain": [
       "   FIRST SECOND THIRD\n",
       "A      7   2023    남자\n",
       "C      5   2021    여자"
      ]
     },
     "execution_count": 93,
     "metadata": {},
     "output_type": "execute_result"
    }
   ],
   "source": [
    "# 리스트를 활용하여 여러 로우 가져오기\n",
    "df.loc[['A','C']]"
   ]
  },
  {
   "cell_type": "code",
   "execution_count": 94,
   "metadata": {},
   "outputs": [
    {
     "data": {
      "text/html": [
       "<div>\n",
       "<style scoped>\n",
       "    .dataframe tbody tr th:only-of-type {\n",
       "        vertical-align: middle;\n",
       "    }\n",
       "\n",
       "    .dataframe tbody tr th {\n",
       "        vertical-align: top;\n",
       "    }\n",
       "\n",
       "    .dataframe thead th {\n",
       "        text-align: right;\n",
       "    }\n",
       "</style>\n",
       "<table border=\"1\" class=\"dataframe\">\n",
       "  <thead>\n",
       "    <tr style=\"text-align: right;\">\n",
       "      <th></th>\n",
       "      <th>FIRST</th>\n",
       "      <th>SECOND</th>\n",
       "      <th>THIRD</th>\n",
       "    </tr>\n",
       "  </thead>\n",
       "  <tbody>\n",
       "    <tr>\n",
       "      <th>A</th>\n",
       "      <td>7</td>\n",
       "      <td>2022</td>\n",
       "      <td>여자</td>\n",
       "    </tr>\n",
       "    <tr>\n",
       "      <th>B</th>\n",
       "      <td>6</td>\n",
       "      <td>2022</td>\n",
       "      <td>여자</td>\n",
       "    </tr>\n",
       "    <tr>\n",
       "      <th>C</th>\n",
       "      <td>5</td>\n",
       "      <td>2021</td>\n",
       "      <td>여자</td>\n",
       "    </tr>\n",
       "    <tr>\n",
       "      <th>D</th>\n",
       "      <td>8</td>\n",
       "      <td>2020</td>\n",
       "      <td>남자</td>\n",
       "    </tr>\n",
       "    <tr>\n",
       "      <th>E</th>\n",
       "      <td>9</td>\n",
       "      <td>2019</td>\n",
       "      <td>남자</td>\n",
       "    </tr>\n",
       "  </tbody>\n",
       "</table>\n",
       "</div>"
      ],
      "text/plain": [
       "   FIRST SECOND THIRD\n",
       "A      7   2022    여자\n",
       "B      6   2022    여자\n",
       "C      5   2021    여자\n",
       "D      8   2020    남자\n",
       "E      9   2019    남자"
      ]
     },
     "execution_count": 94,
     "metadata": {},
     "output_type": "execute_result"
    }
   ],
   "source": [
    "# DataFrame에 row생성 및 일괄 추가 및 변경\n",
    "df.loc['E'] = [9, 2019,'남자']\n",
    "df.loc['A'] = [7, 2022, '여자']\n",
    "df"
   ]
  },
  {
   "cell_type": "code",
   "execution_count": 95,
   "metadata": {},
   "outputs": [
    {
     "data": {
      "text/plain": [
       "FIRST        7\n",
       "SECOND    2022\n",
       "THIRD       여자\n",
       "Name: A, dtype: object"
      ]
     },
     "execution_count": 95,
     "metadata": {},
     "output_type": "execute_result"
    }
   ],
   "source": [
    "# iloc[]를 활용하여 순서로 로우 가져오기\n",
    "df.iloc[0]"
   ]
  },
  {
   "cell_type": "code",
   "execution_count": 96,
   "metadata": {},
   "outputs": [
    {
     "data": {
      "text/html": [
       "<div>\n",
       "<style scoped>\n",
       "    .dataframe tbody tr th:only-of-type {\n",
       "        vertical-align: middle;\n",
       "    }\n",
       "\n",
       "    .dataframe tbody tr th {\n",
       "        vertical-align: top;\n",
       "    }\n",
       "\n",
       "    .dataframe thead th {\n",
       "        text-align: right;\n",
       "    }\n",
       "</style>\n",
       "<table border=\"1\" class=\"dataframe\">\n",
       "  <thead>\n",
       "    <tr style=\"text-align: right;\">\n",
       "      <th></th>\n",
       "      <th>FIRST</th>\n",
       "      <th>SECOND</th>\n",
       "      <th>THIRD</th>\n",
       "    </tr>\n",
       "  </thead>\n",
       "  <tbody>\n",
       "    <tr>\n",
       "      <th>B</th>\n",
       "      <td>6</td>\n",
       "      <td>2022</td>\n",
       "      <td>여자</td>\n",
       "    </tr>\n",
       "    <tr>\n",
       "      <th>C</th>\n",
       "      <td>5</td>\n",
       "      <td>2021</td>\n",
       "      <td>여자</td>\n",
       "    </tr>\n",
       "  </tbody>\n",
       "</table>\n",
       "</div>"
      ],
      "text/plain": [
       "   FIRST SECOND THIRD\n",
       "B      6   2022    여자\n",
       "C      5   2021    여자"
      ]
     },
     "execution_count": 96,
     "metadata": {},
     "output_type": "execute_result"
    }
   ],
   "source": [
    "# :을 활용하여 여러 로우 가져오기\n",
    "df.iloc[1:3]"
   ]
  },
  {
   "cell_type": "markdown",
   "metadata": {},
   "source": [
    "#### [실습] 다음 리스트형태의 데이터를 활용하여 컬럼이 score1, score2, score3, total 이고 인덱스가 4명의 이름인 DataFrame을 생성 \n",
    "total컬럼에는 현재 인덱스의 스코어 총합이 입력"
   ]
  },
  {
   "cell_type": "markdown",
   "metadata": {},
   "source": [
    "#### [실습] 결과 DataFrame에서 연진에 해당하는 점수들만 출력"
   ]
  },
  {
   "cell_type": "code",
   "execution_count": 1,
   "metadata": {},
   "outputs": [],
   "source": [
    "n_list = ['동은','연진','여정','재준']\n",
    "score1 = [76,62,64,62]\n",
    "score2 = [56,74,51,44]\n",
    "score3 = [81,35,74,63]"
   ]
  },
  {
   "cell_type": "code",
   "execution_count": null,
   "metadata": {},
   "outputs": [],
   "source": []
  },
  {
   "cell_type": "markdown",
   "metadata": {},
   "source": [
    "#### End of script"
   ]
  }
 ],
 "metadata": {
  "kernelspec": {
   "display_name": "Python 3 (ipykernel)",
   "language": "python",
   "name": "python3"
  },
  "language_info": {
   "codemirror_mode": {
    "name": "ipython",
    "version": 3
   },
   "file_extension": ".py",
   "mimetype": "text/x-python",
   "name": "python",
   "nbconvert_exporter": "python",
   "pygments_lexer": "ipython3",
   "version": "3.10.8"
  }
 },
 "nbformat": 4,
 "nbformat_minor": 4
}
