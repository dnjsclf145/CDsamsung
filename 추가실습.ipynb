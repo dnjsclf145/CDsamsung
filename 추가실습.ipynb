{
 "cells": [
  {
   "cell_type": "markdown",
   "id": "b1b1d682",
   "metadata": {},
   "source": [
    "<br>\n",
    "\n",
    "#### [실습] 다음 s1 문자열을 활용하여 print()안의 문자열이  다음처럼 출력되게 포맷을 완성\n",
    "\n",
    "나는 빨리 퇴근 하고 싶다. 하지만 퇴근 시간은 1시간 이나 남아있다."
   ]
  },
  {
   "cell_type": "code",
   "execution_count": 44,
   "id": "4895bb37",
   "metadata": {},
   "outputs": [],
   "source": [
    "s ='하지만, 퇴근, 1시간'\n",
    "print(f'나는 빨리 {} 하고 싶다. {} 퇴근 시간은 {} 이나 남아있다.')"
   ]
  },
  {
   "cell_type": "code",
   "execution_count": null,
   "id": "238dd43a",
   "metadata": {},
   "outputs": [],
   "source": []
  },
  {
   "attachments": {},
   "cell_type": "markdown",
   "id": "b4297fe6",
   "metadata": {},
   "source": [
    "<br>\n",
    "\n",
    "#### [실습] 다음 리스트형태의 데이터를 활용하여 컬럼이 score1, score2, score3, total 이고 인덱스가 4명의 이름인 DataFrame을 생성 \n",
    "total컬럼에는 현재 인덱스의 스코어 총합이 입력\n"
   ]
  },
  {
   "cell_type": "markdown",
   "id": "bad0a996",
   "metadata": {},
   "source": [
    "\n",
    "#### [실습] 결과 DataFrame에서 연진에 해당하는 점수들만 출력"
   ]
  },
  {
   "cell_type": "code",
   "execution_count": 47,
   "id": "58e523a8",
   "metadata": {},
   "outputs": [],
   "source": [
    "n_list = ['동은','연진','여정','재준']\n",
    "score1 = [76,62,64,62]\n",
    "score2 = [56,74,51,44]\n",
    "score3 = [81,35,74,63]\n"
   ]
  },
  {
   "cell_type": "code",
   "execution_count": null,
   "id": "41ca1eb0",
   "metadata": {},
   "outputs": [],
   "source": []
  }
 ],
 "metadata": {
  "kernelspec": {
   "display_name": "Python 3 (ipykernel)",
   "language": "python",
   "name": "python3"
  },
  "language_info": {
   "codemirror_mode": {
    "name": "ipython",
    "version": 3
   },
   "file_extension": ".py",
   "mimetype": "text/x-python",
   "name": "python",
   "nbconvert_exporter": "python",
   "pygments_lexer": "ipython3",
   "version": "3.10.8"
  }
 },
 "nbformat": 4,
 "nbformat_minor": 5
}
