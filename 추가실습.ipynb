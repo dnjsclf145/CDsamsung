{
 "cells": [
  {
   "cell_type": "markdown",
   "id": "b1b1d682",
   "metadata": {},
   "source": [
    "<br>\n",
    "\n",
    "#### [실습] 다음 s1 문자열을 활용하여 print()안의 문자열이  다음처럼 출력되게 포맷을 완성\n",
    "\n",
    "나는 빨리 퇴근 하고 싶다. 하지만 퇴근 시간은 1시간 이나 남아있다."
   ]
  },
  {
   "cell_type": "code",
   "execution_count": 44,
   "id": "4895bb37",
   "metadata": {},
   "outputs": [],
   "source": [
    "s ='하지만, 퇴근, 1시간'\n",
    "print(f'나는 빨리 {} 하고 싶다. {} 퇴근 시간은 {} 이나 남아있다.')"
   ]
  },
  {
   "cell_type": "code",
   "execution_count": null,
   "id": "238dd43a",
   "metadata": {},
   "outputs": [],
   "source": []
  },
  {
   "cell_type": "markdown",
   "id": "b4297fe6",
   "metadata": {},
   "source": [
    "<br>\n",
    "\n",
    "#### [실습] 다음 리스트형태의 데이터를 활용하여 컬럼이 score1, score2, score3, total 이고 인덱스가 4명의 이름인 DataFrame을 생성 \n",
    "total컬럼에는 현재 인덱스의 스코어 총합이 입력\n"
   ]
  },
  {
   "cell_type": "markdown",
   "id": "bad0a996",
   "metadata": {},
   "source": [
    "\n",
    "#### [실습] 결과 DataFrame에서 연진에 해당하는 점수들만 출력"
   ]
  },
  {
   "cell_type": "code",
   "execution_count": 47,
   "id": "58e523a8",
   "metadata": {},
   "outputs": [],
   "source": [
    "n_list = ['동은','연진','여정','재준']\n",
    "score1 = [76,62,64,62]\n",
    "score2 = [56,74,51,44]\n",
    "score3 = [81,35,74,63]\n"
   ]
  },
  {
   "cell_type": "code",
   "execution_count": null,
   "id": "41ca1eb0",
   "metadata": {},
   "outputs": [],
   "source": []
  },
  {
   "cell_type": "markdown",
   "id": "5ab94e9b",
   "metadata": {},
   "source": [
    "#### [실습] \n",
    "1. data 폴더의 house_price_train.csv를 읽어와 'SalePrice','SaleCondition','SaleType','YrSold','LotFrontage','LotArea' 컬럼만 포함하는  DataFrame으로 df_hp 변수에저장\n",
    "\n",
    "2. SalePrice의 최소값, 최대값, 평균값 그리고 SaleCondition의 고유항목을 출력\n",
    "\n",
    "3. 수치형 데이터의 결측치(NaN)값을 일괄적으로 해당컬럼의 평균으로 채우기\n",
    "\n",
    "4. LotFrontage의 데이터타입을 int형으로 바꾸기\n",
    "\n",
    "5. SalePrice의 히스토그램 그리기\n",
    "\n",
    "6. SaleType의 그룹별 SalePrice의 평균을 구하여 막대그래프 그리기, x축이 SaleType, 막대높히가 SalePrice의 평균\n",
    "\n",
    "7. YrSold의 그룹별 SalePrice의 평균을 구하여 선그래프 그리기, x축이 YrSold, y축이 SalePrice의 평균\n",
    "\n",
    "8. LotArea가 5000보다 크고 15000보다 작은 범위에서 LotArea가 작은순으로 정렬한 데이터프레임 출력\n",
    "\n",
    "9. LotArea가 x축, SalePrice가 y축 LotFrontage의 3분의1값이 점의 크기를 나타내는 산점도 그래프 그리기\n",
    "\n",
    "10. 9번의 결과에 SaleCondition에 따라 색이 다르게 표현되는 산점도 그래프 그리기\n",
    "\n",
    "11. YrSold 별 SaleType의 상관관계를 나타내는 crosstab을 만들고 히트맵으로 출력, 하나의 SaleType 에대한 YrSold 의 백분율\n",
    "\n",
    "12. SaleCondition, YrSold 그룹에서 SalePrice의 평균을 나타내는 피벗테이블 생성, 인덱스가 YrSold 컬럼이 SaleCondition"
   ]
  },
  {
   "cell_type": "code",
   "execution_count": 128,
   "id": "b3f3b914",
   "metadata": {},
   "outputs": [],
   "source": [
    "import pandas as pd\n",
    "import matplotlib.pyplot as plt\n",
    "import seaborn as sns\n",
    "plt.rc('font', family='Malgun Gothic')"
   ]
  },
  {
   "cell_type": "code",
   "execution_count": null,
   "id": "947aafe8",
   "metadata": {},
   "outputs": [],
   "source": []
  },
  {
   "cell_type": "code",
   "execution_count": null,
   "id": "622837f3",
   "metadata": {},
   "outputs": [],
   "source": []
  },
  {
   "cell_type": "code",
   "execution_count": null,
   "id": "a0d8df0b",
   "metadata": {},
   "outputs": [],
   "source": []
  },
  {
   "cell_type": "code",
   "execution_count": null,
   "id": "49842ee6",
   "metadata": {},
   "outputs": [],
   "source": []
  },
  {
   "cell_type": "code",
   "execution_count": null,
   "id": "6e0380af",
   "metadata": {},
   "outputs": [],
   "source": []
  },
  {
   "cell_type": "code",
   "execution_count": null,
   "id": "b8743ea0",
   "metadata": {},
   "outputs": [],
   "source": []
  },
  {
   "cell_type": "code",
   "execution_count": null,
   "id": "f2be7400",
   "metadata": {},
   "outputs": [],
   "source": []
  },
  {
   "cell_type": "code",
   "execution_count": null,
   "id": "bb7bc45c",
   "metadata": {},
   "outputs": [],
   "source": []
  }
 ],
 "metadata": {
  "kernelspec": {
   "display_name": "Python 3 (ipykernel)",
   "language": "python",
   "name": "python3"
  },
  "language_info": {
   "codemirror_mode": {
    "name": "ipython",
    "version": 3
   },
   "file_extension": ".py",
   "mimetype": "text/x-python",
   "name": "python",
   "nbconvert_exporter": "python",
   "pygments_lexer": "ipython3",
   "version": "3.10.8"
  }
 },
 "nbformat": 4,
 "nbformat_minor": 5
}
