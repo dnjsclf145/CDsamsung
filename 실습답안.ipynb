{
 "cells": [
  {
   "cell_type": "markdown",
   "id": "cd4d47a4",
   "metadata": {},
   "source": [
    "#### [실습] \n",
    "1. data 폴더의 house_price_train.csv를 읽어와 'SalePrice','SaleCondition','SaleType','YrSold','LotFrontage','LotArea' 컬럼만 포함하는  DataFrame으로 df_hp 변수에저장\n",
    "\n",
    "2. SalePrice의 최소값, 최대값, 평균값 그리고 SaleCondition의 고유항목을 출력\n",
    "\n",
    "3. 수치형 데이터의 결측치(NaN)값을 일괄적으로 해당컬럼의 평균으로 채우기\n",
    "\n",
    "4. LotFrontage의 데이터타입을 int형으로 바꾸기\n",
    "\n",
    "5. SalePrice의 히스토그램 그리기\n",
    "\n",
    "6. SaleType의 그룹별 SalePrice의 평균을 구하여 막대그래프 그리기, x축이 SaleType, 막대높히가 SalePrice의 평균\n",
    "\n",
    "7. YrSold의 그룹별 SalePrice의 평균을 구하여 선그래프 그리기, x축이 YrSold, y축이 SalePrice의 평균\n",
    "\n",
    "8. LotArea가 5000보다 크고 15000보다 작은 범위에서 LotArea가 작은순으로 정렬한 데이터프레임 출력\n",
    "\n",
    "9. LotArea가 x축, SalePrice가 y축 LotFrontage의 3분의1값이 점의 크기를 나타내는 산점도 그래프 그리기\n",
    "\n",
    "10. 9번의 결과에 SaleCondition에 따라 색이 다르게 표현되는 산점도 그래프 그리기\n",
    "\n",
    "11. YrSold의 범주 별로 SaleType의 백분율을 나타내는 교차표를 만들고 히트맵으로 출력, 특정 SaleType 총합이 1\n",
    "\n",
    "12. SaleCondition, YrSold 그룹에서 SalePrice의 평균을 나타내는 피벗테이블 생성, 인덱스가 YrSold 컬럼이 SaleCondition"
   ]
  },
  {
   "cell_type": "code",
   "execution_count": null,
   "id": "9df90476",
   "metadata": {},
   "outputs": [],
   "source": [
    "import pandas as pd\n",
    "import matplotlib.pyplot as plt\n",
    "import seaborn as sns\n",
    "plt.rc('font', family='Malgun Gothic')"
   ]
  },
  {
   "cell_type": "markdown",
   "id": "93426958",
   "metadata": {},
   "source": [
    "1. data 폴더의 house_price_train.csv를 읽어와 'SalePrice','SaleCondition','SaleType','YrSold','LotFrontage','LotArea' 컬럼만 포함하는  DataFrame으로 df_hp 변수에저장\n"
   ]
  },
  {
   "cell_type": "code",
   "execution_count": null,
   "id": "04fe4ab2",
   "metadata": {},
   "outputs": [],
   "source": [
    "df_hp = pd.read_csv('data/house_price_train.csv')\n",
    "df_hp = df_hp[['SalePrice','SaleCondition','SaleType','YrSold','LotFrontage','LotArea']]\n",
    "df_hp"
   ]
  },
  {
   "cell_type": "markdown",
   "id": "6a8afd1b",
   "metadata": {},
   "source": [
    "2. SalePrice의 최소값, 최대값, 평균값 그리고 SaleCondition의 고유항목을 출력"
   ]
  },
  {
   "cell_type": "code",
   "execution_count": null,
   "id": "ef501e1c",
   "metadata": {},
   "outputs": [],
   "source": [
    "df_hp['SalePrice'].min()\n",
    "df_hp['SalePrice'].max()\n",
    "df_hp['SalePrice'].mean()\n",
    "df_hp['SaleCondition'].unique()"
   ]
  },
  {
   "cell_type": "markdown",
   "id": "6135b6c6",
   "metadata": {},
   "source": [
    "3. 수치형 데이터의 결측치(NaN)값을 일괄적으로 해당컬럼의 평균으로 채우기"
   ]
  },
  {
   "cell_type": "code",
   "execution_count": null,
   "id": "9e9cdff8",
   "metadata": {},
   "outputs": [],
   "source": [
    "mean = df_hp.mean()\n",
    "mean"
   ]
  },
  {
   "cell_type": "code",
   "execution_count": null,
   "id": "0a1a9796",
   "metadata": {},
   "outputs": [],
   "source": [
    "df_fna = df_hp.fillna(mean)"
   ]
  },
  {
   "cell_type": "code",
   "execution_count": null,
   "id": "2cd0ad2b",
   "metadata": {},
   "outputs": [],
   "source": [
    "df_hp[['LotArea','LotFrontage']] = df_hp[['LotArea','LotFrontage']].fillna(df_hp[['LotArea','LotFrontage']].mean())\n",
    "df_hp"
   ]
  },
  {
   "cell_type": "markdown",
   "id": "4caffe5a",
   "metadata": {},
   "source": [
    "4. LotFrontage의 데이터타입을 int형으로 바꾸기"
   ]
  },
  {
   "cell_type": "code",
   "execution_count": null,
   "id": "5370c26e",
   "metadata": {
    "scrolled": true
   },
   "outputs": [],
   "source": [
    "df_hp['LotFrontage'] = df_hp['LotFrontage'].astype('int')\n",
    "df_hp"
   ]
  },
  {
   "cell_type": "markdown",
   "id": "826a8370",
   "metadata": {},
   "source": [
    "5. SalePrice의 히스토그램 그리기"
   ]
  },
  {
   "cell_type": "code",
   "execution_count": null,
   "id": "66a8ddb7",
   "metadata": {
    "scrolled": true
   },
   "outputs": [],
   "source": [
    "plt.hist(df_hp['SalePrice'])\n",
    "plt.show()"
   ]
  },
  {
   "cell_type": "markdown",
   "id": "ed1012b7",
   "metadata": {},
   "source": [
    "6. SaleType의 그룹별 SalePrice의 평균을 구하여 막대그래프 그리기, x축이 SaleType, 막대높히가 SalePrice의 평균"
   ]
  },
  {
   "cell_type": "code",
   "execution_count": null,
   "id": "c9ecf95d",
   "metadata": {
    "scrolled": true
   },
   "outputs": [],
   "source": [
    "df_grp = df_hp.groupby('SaleType',as_index = False)['SalePrice'].mean()\n",
    "sns.barplot(data = df_grp, x ='SaleType' ,y = 'SalePrice')\n",
    "plt.show()"
   ]
  },
  {
   "cell_type": "markdown",
   "id": "74a113b4",
   "metadata": {},
   "source": [
    "7. YrSold의 그룹별 SalePrice의 평균을 구하여 선그래프 그리기, x축이 YrSold, y축이 SalePrice의 평균"
   ]
  },
  {
   "cell_type": "code",
   "execution_count": null,
   "id": "e20a9daf",
   "metadata": {
    "scrolled": true
   },
   "outputs": [],
   "source": [
    "df_grp = df_hp.groupby('YrSold')[['SalePrice']].mean()\n",
    "df_grp\n",
    "sns.lineplot(data = df_grp, x=df_grp.index ,y = 'SalePrice')\n",
    "# plt.xticks(df_grp['YrSold'])\n",
    "plt.show()"
   ]
  },
  {
   "cell_type": "markdown",
   "id": "a65b970c",
   "metadata": {},
   "source": [
    "8. LotArea가 5000보다 크고 15000보다 작은 범위에서 LotArea가 작은순으로 정렬한 데이터프레임에서 두번째 로우(관측지)만 출력"
   ]
  },
  {
   "cell_type": "code",
   "execution_count": null,
   "id": "70f2bc56",
   "metadata": {},
   "outputs": [],
   "source": [
    "df_sort = df_hp.sort_values('LotArea')\n",
    "df_sort = df_sort[(df_sort['LotArea'] < 15000) & (df_sort['LotArea'] > 5000)]\n",
    "df_sort.iloc[1]"
   ]
  },
  {
   "cell_type": "markdown",
   "id": "ed87c9d6",
   "metadata": {},
   "source": [
    "9. LotArea가 x축, SalePrice가 y축 LotFrontage의 3분의1값이 점의 크기를 나타내는 산점도 그래프 그리기"
   ]
  },
  {
   "cell_type": "code",
   "execution_count": null,
   "id": "13faa786",
   "metadata": {},
   "outputs": [],
   "source": [
    "plt.scatter(df_sort['LotArea'], df_sort['SalePrice'], s=df_sort['LotFrontage']/3, alpha=0.5)\n",
    "plt.show()"
   ]
  },
  {
   "cell_type": "code",
   "execution_count": null,
   "id": "21124bcd",
   "metadata": {
    "scrolled": true
   },
   "outputs": [],
   "source": [
    "sns.scatterplot(data=df_sort, x= 'LotArea', y='SalePrice', size = df_sort['LotFrontage']/3, alpha=0.5)\n",
    "plt.show()"
   ]
  },
  {
   "cell_type": "markdown",
   "id": "5f26ed6e",
   "metadata": {},
   "source": [
    "10. 9번의 결과에 SaleCondition에 따라 색이 다르게 표현되는 산점도 그래프 그리기"
   ]
  },
  {
   "cell_type": "code",
   "execution_count": null,
   "id": "e9cc3f96",
   "metadata": {},
   "outputs": [],
   "source": [
    "sns.scatterplot(data=df_sort, x= 'LotArea', y='SalePrice', hue ='SaleCondition' , alpha=0.5)\n",
    "plt.show()"
   ]
  },
  {
   "cell_type": "markdown",
   "id": "711b0844",
   "metadata": {},
   "source": [
    "11. YrSold의 범주 별로 SaleType의 백분율을 나타내는 교차표를 만들고 히트맵으로 출력, 특정 SaleType 총합이 1"
   ]
  },
  {
   "cell_type": "code",
   "execution_count": null,
   "id": "49986287",
   "metadata": {},
   "outputs": [],
   "source": [
    "ctab_df = pd.crosstab(df_hp['SaleType'], df_hp['YrSold'], normalize='index')\n",
    "sns.heatmap(ctab_df, cmap='YlGnBu', annot=True, fmt='.2f')\n"
   ]
  },
  {
   "cell_type": "markdown",
   "id": "21359f7e",
   "metadata": {},
   "source": [
    "12. SaleCondition, YrSold 그룹에서 SalePrice의 평균을 나타내는 피벗테이블 생성, 인덱스가 YrSold 컬럼이 SaleCondition"
   ]
  },
  {
   "cell_type": "code",
   "execution_count": null,
   "id": "4357fa34",
   "metadata": {},
   "outputs": [],
   "source": [
    "pivot = pd.pivot_table(df_hp, values='SalePrice', index=['YrSold'],\n",
    "                    columns=['SaleCondition'], aggfunc='mean')\n",
    "pivot"
   ]
  },
  {
   "cell_type": "markdown",
   "id": "f47c4345",
   "metadata": {},
   "source": [
    "<br>\n",
    "\n",
    "\n",
    "#### [실습]\n",
    "\n",
    "\n",
    "1. '날짜'로부터 연-월 만 표기되는 '연월'컬럼을 만들고 '이용객수'를 1000단위의 표현으로 바꾸기(소수여도 됨)\n",
    "2. 1.번의 '연월' 과 '호선'별 '이용객수'평균을 나타내는 피벗테이블을 만들고 히트맵으로 출력 (소수점 둘째자리까지)\n",
    "3. 1.번의 결과에서 하나의 표에 '연월'에 따른 '이용객수'를 나타낸 선그래프를 하나의 표안에 '호선'별로 출력 (하나의 표에 총 8개가 그려져야함)\n"
   ]
  },
  {
   "cell_type": "code",
   "execution_count": null,
   "id": "9afa8def",
   "metadata": {},
   "outputs": [],
   "source": [
    "df_tsb = pd.read_csv('data/서울교통공사_역별일별승하차인원정보_20220731.csv')\n",
    "df_tsb.head()"
   ]
  },
  {
   "cell_type": "code",
   "execution_count": null,
   "id": "abd96bea",
   "metadata": {
    "scrolled": true
   },
   "outputs": [],
   "source": [
    "df_tsb['연월'] = df_tsb['날짜'].astype('datetime64').apply(lambda x: x.strftime('%Y-%m'))\n",
    "df_tsb['이용객수k'] = df_tsb['이용객수'] / 1000\n",
    "pivot = pd.pivot_table(df_tsb, values = '이용객수k', index='연월', columns='호선', aggfunc='mean')\n",
    "sns.heatmap(pivot, cmap='YlGnBu', annot=True, fmt='.2f')\n"
   ]
  },
  {
   "cell_type": "code",
   "execution_count": null,
   "id": "406204fc",
   "metadata": {},
   "outputs": [],
   "source": [
    "pivot"
   ]
  },
  {
   "cell_type": "code",
   "execution_count": null,
   "id": "4bb26b6b",
   "metadata": {},
   "outputs": [],
   "source": [
    "plt.figure(figsize=(20,10))\n",
    "\n",
    "for col in pivot:\n",
    "    plt.plot(pivot.index, pivot[col], label = col)\n",
    "plt.legend()\n",
    "plt.show()"
   ]
  },
  {
   "cell_type": "code",
   "execution_count": null,
   "id": "d812b476",
   "metadata": {},
   "outputs": [],
   "source": [
    "sns.lineplot(data = pivot)\n",
    "plt.show()"
   ]
  },
  {
   "cell_type": "code",
   "execution_count": null,
   "id": "59e74f0e",
   "metadata": {},
   "outputs": [],
   "source": []
  }
 ],
 "metadata": {
  "kernelspec": {
   "display_name": "Python 3 (ipykernel)",
   "language": "python",
   "name": "python3"
  },
  "language_info": {
   "codemirror_mode": {
    "name": "ipython",
    "version": 3
   },
   "file_extension": ".py",
   "mimetype": "text/x-python",
   "name": "python",
   "nbconvert_exporter": "python",
   "pygments_lexer": "ipython3",
   "version": "3.10.11"
  }
 },
 "nbformat": 4,
 "nbformat_minor": 5
}
