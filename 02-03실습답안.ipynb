{
 "cells": [
  {
   "cell_type": "markdown",
   "id": "d838cde7",
   "metadata": {},
   "source": [
    "#### [실습] 자신의 이름을 변수 name에 할당하고 자신의 나이를 변수 age에 할당하기"
   ]
  },
  {
   "cell_type": "code",
   "execution_count": null,
   "id": "70c86796",
   "metadata": {},
   "outputs": [],
   "source": [
    "name = '원칠'\n",
    "age = 31"
   ]
  },
  {
   "cell_type": "markdown",
   "id": "5218156f",
   "metadata": {},
   "source": [
    "#### [실습] x에 10.1을 저장하고, y에 101을 저장한 다음 더한후 정수로 출력"
   ]
  },
  {
   "cell_type": "code",
   "execution_count": 1,
   "id": "ef7976bc",
   "metadata": {},
   "outputs": [
    {
     "data": {
      "text/plain": [
       "111"
      ]
     },
     "execution_count": 1,
     "metadata": {},
     "output_type": "execute_result"
    }
   ],
   "source": [
    "x = 10.1\n",
    "y = 101\n",
    "\n",
    "int(x+y)"
   ]
  },
  {
   "cell_type": "markdown",
   "id": "5a0d8061",
   "metadata": {},
   "source": [
    "#### [실습] a=1, b=5로 할당하고 문자 'a + b는'과 a+b 계산 결과를 print( )로 함께 출력\n",
    "\n",
    "출력 결과 예시  \n",
    "`1 + 5는 6`"
   ]
  },
  {
   "cell_type": "code",
   "execution_count": 1,
   "id": "177e469f",
   "metadata": {},
   "outputs": [
    {
     "name": "stdout",
     "output_type": "stream",
     "text": [
      "1+5는 6\n"
     ]
    }
   ],
   "source": [
    "a = 1\n",
    "b = 5\n",
    "ab = a+b\n",
    "print(f'{a}+{b}는 {ab}')"
   ]
  },
  {
   "cell_type": "markdown",
   "id": "35fd00b3",
   "metadata": {},
   "source": [
    "#### [심화] 다음 두변수를 활용하여 0을 출력하세요. 단 한번의 연산과 한번의 형변환이 사용되어야 합니다."
   ]
  },
  {
   "cell_type": "code",
   "execution_count": 2,
   "id": "c00d75db",
   "metadata": {},
   "outputs": [
    {
     "data": {
      "text/plain": [
       "0"
      ]
     },
     "execution_count": 2,
     "metadata": {},
     "output_type": "execute_result"
    }
   ],
   "source": [
    "a = 1\n",
    "b = 5\n",
    "\n",
    "int(a == b)"
   ]
  },
  {
   "cell_type": "markdown",
   "id": "da233e7e",
   "metadata": {},
   "source": [
    "#### [실습] 다음 클래스를 활용해 자신의 이름과 나이가 들어간 인스턴스 변수(member)생성하고, 메소드를 통해 다음 문구 출력\n",
    "\n",
    "`저의 이름은 000, 나이는 00 입니다.`"
   ]
  },
  {
   "cell_type": "code",
   "execution_count": 5,
   "id": "ce26ecfc",
   "metadata": {},
   "outputs": [],
   "source": [
    "class Member:\n",
    "    def __init__(self, name, age):\n",
    "        self.name = name\n",
    "        self.age = age\n",
    "    def print_info(self):\n",
    "        return f'저의 이름은 {self.name} 나이는 {self.age} 입니다.'"
   ]
  },
  {
   "cell_type": "code",
   "execution_count": 6,
   "id": "51240afe",
   "metadata": {},
   "outputs": [
    {
     "data": {
      "text/plain": [
       "'저의 이름은 최원칠 나이는 31 입니다.'"
      ]
     },
     "execution_count": 6,
     "metadata": {},
     "output_type": "execute_result"
    }
   ],
   "source": [
    "member = Member('최원칠',31)\n",
    "member.print_info()"
   ]
  },
  {
   "cell_type": "markdown",
   "id": "6a96cd5d",
   "metadata": {},
   "source": [
    "#### [심화] 다음 코드실행시 결과가 20이 나올수 있게 Myclass를 정의하세요"
   ]
  },
  {
   "cell_type": "code",
   "execution_count": 2,
   "id": "7fc64bed",
   "metadata": {},
   "outputs": [
    {
     "data": {
      "text/plain": [
       "20"
      ]
     },
     "execution_count": 2,
     "metadata": {},
     "output_type": "execute_result"
    }
   ],
   "source": [
    "myclass = Myclass(15)\n",
    "myclass.add_num(5)\n",
    "myclass.get_num()"
   ]
  },
  {
   "cell_type": "code",
   "execution_count": 1,
   "id": "e60dd98a",
   "metadata": {},
   "outputs": [],
   "source": [
    "class Myclass:\n",
    "    def __init__(self, num):\n",
    "        self.num = num\n",
    "    def add_num(self, add):\n",
    "        self.num = self.num + add\n",
    "    def get_num(self):\n",
    "        return self.num\n"
   ]
  },
  {
   "cell_type": "markdown",
   "id": "ccbece6a",
   "metadata": {},
   "source": [
    "<br>\n",
    "\n",
    "#### [실습]\n",
    "\n",
    "1. 구구단 19단 출력하기  \n",
    "`19 X 1 = 19`  \n",
    "`19 X 2 = 38 ... ` \n",
    "\n",
    "2. 아래의 숫자 리스트 *x* 에서 10 이상인 숫자만 따로 모아 합계 계산하기\n"
   ]
  },
  {
   "cell_type": "code",
   "execution_count": null,
   "id": "5a785960",
   "metadata": {},
   "outputs": [],
   "source": [
    "#1. 참고\n",
    "print(f'{19} X {1} = {19}')"
   ]
  },
  {
   "cell_type": "code",
   "execution_count": 7,
   "id": "70d40621",
   "metadata": {},
   "outputs": [
    {
     "name": "stdout",
     "output_type": "stream",
     "text": [
      "19 X 1 = 19\n",
      "19 X 2 = 38\n",
      "19 X 3 = 57\n",
      "19 X 4 = 76\n",
      "19 X 5 = 95\n",
      "19 X 6 = 114\n",
      "19 X 7 = 133\n",
      "19 X 8 = 152\n",
      "19 X 9 = 171\n",
      "19 X 10 = 190\n",
      "19 X 11 = 209\n",
      "19 X 12 = 228\n",
      "19 X 13 = 247\n",
      "19 X 14 = 266\n",
      "19 X 15 = 285\n",
      "19 X 16 = 304\n",
      "19 X 17 = 323\n",
      "19 X 18 = 342\n",
      "19 X 19 = 361\n"
     ]
    }
   ],
   "source": [
    "for i in range(1,20):\n",
    "    print(f'19 X {i} = {19*i}')"
   ]
  },
  {
   "cell_type": "code",
   "execution_count": 9,
   "id": "8527633f",
   "metadata": {},
   "outputs": [],
   "source": [
    "#2. \n",
    "x = [9, 10, 4, 22, 3, 19]"
   ]
  },
  {
   "cell_type": "code",
   "execution_count": 11,
   "id": "1f791104",
   "metadata": {},
   "outputs": [
    {
     "data": {
      "text/plain": [
       "51"
      ]
     },
     "execution_count": 11,
     "metadata": {},
     "output_type": "execute_result"
    }
   ],
   "source": [
    "sum_x = 0\n",
    "for i in x:\n",
    "    if i >=10:\n",
    "        sum_x += i\n",
    "sum_x"
   ]
  },
  {
   "cell_type": "markdown",
   "id": "2db0ba73",
   "metadata": {},
   "source": [
    "#### [심화] 다음 리스트를 순서대로 출력하세요. 단 *가 나오면 이전 숫자들의 합으로 출력하고 - 가 나오면 반복을 중지\n",
    "\n",
    "    출력결과\n",
    "    1\n",
    "    2\n",
    "    3\n",
    "    4\n",
    "    5\n",
    "    15\n",
    "    7"
   ]
  },
  {
   "cell_type": "code",
   "execution_count": 11,
   "id": "45fbfe78",
   "metadata": {},
   "outputs": [],
   "source": [
    "nums2 = [1, 2, '*', 4, 5, '*', 7, '-', 9]"
   ]
  },
  {
   "cell_type": "code",
   "execution_count": 14,
   "id": "c9ae635a",
   "metadata": {
    "scrolled": true
   },
   "outputs": [
    {
     "name": "stdout",
     "output_type": "stream",
     "text": [
      "1\n",
      "2\n",
      "3\n",
      "4\n",
      "5\n",
      "15\n",
      "7\n"
     ]
    }
   ],
   "source": [
    "snum = 0\n",
    "for x in nums2:\n",
    "    if x == '*':\n",
    "        print(snum)\n",
    "        snum += snum\n",
    "    elif x == '-':\n",
    "        break\n",
    "    else:\n",
    "        snum += x\n",
    "        print(x)"
   ]
  },
  {
   "cell_type": "markdown",
   "id": "d166d1a3",
   "metadata": {},
   "source": [
    "\n",
    "#### [실습] 점심/저녁 메뉴 3개를 리스트로 묶어 menu로 저장하기 \n"
   ]
  },
  {
   "cell_type": "code",
   "execution_count": null,
   "id": "73308033",
   "metadata": {},
   "outputs": [],
   "source": [
    "menu = ['김밥','돈까스','치킨']"
   ]
  },
  {
   "cell_type": "markdown",
   "id": "cf4135e0",
   "metadata": {},
   "source": [
    "#### [실습] 1~45까지 숫자 중에서  6의 배수 숫자만 리스트로 만들어 저장하기\n"
   ]
  },
  {
   "cell_type": "code",
   "execution_count": 12,
   "id": "bb27510d",
   "metadata": {},
   "outputs": [
    {
     "data": {
      "text/plain": [
       "[6, 12, 18, 24, 30, 36, 42]"
      ]
     },
     "execution_count": 12,
     "metadata": {},
     "output_type": "execute_result"
    }
   ],
   "source": [
    "[x for x in range(1,46) if x%6==0]"
   ]
  },
  {
   "cell_type": "code",
   "execution_count": 2,
   "id": "55ae2496",
   "metadata": {},
   "outputs": [
    {
     "data": {
      "text/plain": [
       "[6, 12, 18, 24, 30, 36, 42]"
      ]
     },
     "execution_count": 2,
     "metadata": {},
     "output_type": "execute_result"
    }
   ],
   "source": [
    "xl = []\n",
    "for i in range(1,46):\n",
    "    if i % 6 == 0:\n",
    "        xl.append(i)\n",
    "xl"
   ]
  },
  {
   "cell_type": "markdown",
   "id": "d4f110c0",
   "metadata": {},
   "source": [
    "#### [실습] 관심있는 메뉴 3개를 묶은 menu 리스트를 생성하고 append( )로 메뉴 하나 더 추가하기\n",
    "\n"
   ]
  },
  {
   "cell_type": "code",
   "execution_count": 14,
   "id": "ce9b051c",
   "metadata": {},
   "outputs": [
    {
     "data": {
      "text/plain": [
       "['김밥', '돈까스', '치킨', '덮밥']"
      ]
     },
     "execution_count": 14,
     "metadata": {},
     "output_type": "execute_result"
    }
   ],
   "source": [
    "menu = ['김밥','돈까스','치킨']\n",
    "menu.append('덮밥')\n",
    "menu"
   ]
  },
  {
   "cell_type": "markdown",
   "id": "84fddf0c",
   "metadata": {},
   "source": [
    "#### [실습] 다음 두 리스트를 이어붙이고 이름 순으로 정렬하여 출력하기\n"
   ]
  },
  {
   "cell_type": "code",
   "execution_count": 23,
   "id": "1a209ca5",
   "metadata": {},
   "outputs": [
    {
     "data": {
      "text/plain": [
       "['a', 'b', 'c', 'e', 'f']"
      ]
     },
     "execution_count": 23,
     "metadata": {},
     "output_type": "execute_result"
    }
   ],
   "source": [
    "list1 = ['a','f','c']\n",
    "list2 = ['b','e']\n",
    "\n",
    "list1.extend(list2)\n",
    "list1.sort()\n",
    "list1"
   ]
  },
  {
   "cell_type": "code",
   "execution_count": 24,
   "id": "89ad1988",
   "metadata": {},
   "outputs": [
    {
     "data": {
      "text/plain": [
       "['a', 'b', 'c', 'e', 'f']"
      ]
     },
     "execution_count": 24,
     "metadata": {},
     "output_type": "execute_result"
    }
   ],
   "source": [
    "list1 = ['a','f','c']\n",
    "list2 = ['b','e']\n",
    "\n",
    "list3 = list1 + list2\n",
    "list3.sort()\n",
    "list3"
   ]
  },
  {
   "cell_type": "code",
   "execution_count": 8,
   "id": "50f29b43",
   "metadata": {},
   "outputs": [
    {
     "data": {
      "text/plain": [
       "['a', 'b', 'c', 'e', 'f']"
      ]
     },
     "execution_count": 8,
     "metadata": {},
     "output_type": "execute_result"
    }
   ],
   "source": [
    "list1 = ['a','f','c']\n",
    "list2 = ['b','e']\n",
    "\n",
    "for x in list2:\n",
    "    list1.append(x)\n",
    "list1.sort()\n",
    "list1  \n"
   ]
  },
  {
   "cell_type": "markdown",
   "id": "fb8e9f34",
   "metadata": {},
   "source": [
    "#### [실습] menu에서 첫번째 메뉴만 선택하여 출력\n",
    "\n",
    "#### [실습] menu에서 세번째~마지막 메뉴를 한번에 선택하여 출력\n",
    "\n",
    "#### [실습] menu에서 세번째 메뉴를 '우동'으로 변경\n"
   ]
  },
  {
   "cell_type": "code",
   "execution_count": 4,
   "id": "61ad481c",
   "metadata": {},
   "outputs": [],
   "source": [
    "menu = ['돈까스', '삼겹살', '치킨', '불고기']"
   ]
  },
  {
   "cell_type": "code",
   "execution_count": 5,
   "id": "d21ffd70",
   "metadata": {},
   "outputs": [
    {
     "data": {
      "text/plain": [
       "'돈까스'"
      ]
     },
     "execution_count": 5,
     "metadata": {},
     "output_type": "execute_result"
    }
   ],
   "source": [
    "menu[0]"
   ]
  },
  {
   "cell_type": "code",
   "execution_count": 6,
   "id": "dbe0c61c",
   "metadata": {},
   "outputs": [
    {
     "data": {
      "text/plain": [
       "['치킨', '불고기']"
      ]
     },
     "execution_count": 6,
     "metadata": {},
     "output_type": "execute_result"
    }
   ],
   "source": [
    "menu[2:]"
   ]
  },
  {
   "cell_type": "code",
   "execution_count": 7,
   "id": "6b2f46f6",
   "metadata": {
    "scrolled": true
   },
   "outputs": [
    {
     "data": {
      "text/plain": [
       "['돈까스', '삼겹살', '우동', '불고기']"
      ]
     },
     "execution_count": 7,
     "metadata": {},
     "output_type": "execute_result"
    }
   ],
   "source": [
    "menu[2] = '우동'\n",
    "menu"
   ]
  },
  {
   "cell_type": "markdown",
   "id": "b1b1d682",
   "metadata": {},
   "source": [
    "<br>\n",
    "\n",
    "#### [실습] 다음 s1 문자열을 활용하여 print()안의 문자열이  다음처럼 출력되게 포맷을 완성\n",
    "\n",
    "나는 빨리 퇴근 하고 싶다. 하지만 퇴근 시간은 1시간 이나 남아있다."
   ]
  },
  {
   "cell_type": "code",
   "execution_count": 3,
   "id": "4895bb37",
   "metadata": {},
   "outputs": [],
   "source": [
    "s1 ='하지만, 퇴근, 1시간'"
   ]
  },
  {
   "cell_type": "code",
   "execution_count": 4,
   "id": "e3cceeed",
   "metadata": {},
   "outputs": [
    {
     "data": {
      "text/plain": [
       "['하지만', ' 퇴근', ' 1시간']"
      ]
     },
     "execution_count": 4,
     "metadata": {},
     "output_type": "execute_result"
    }
   ],
   "source": [
    "w = s.split(',')\n",
    "print(f'나는 빨리 {w[1].strip()} 하고 싶다. {w[0]} 퇴근 시간은 {w[2].strip()} 이나 남아있다.')"
   ]
  },
  {
   "cell_type": "markdown",
   "id": "7e52574f",
   "metadata": {},
   "source": [
    "#### [심화] 다음 문자열에서 stop_words에 해당하는 단어를 빼고 단어 리스트로 \n",
    "\n",
    "    출력 결과\n",
    "    ['삼성', '빅데이터', '데이터분석', '파이썬', '시각화']"
   ]
  },
  {
   "cell_type": "code",
   "execution_count": 26,
   "id": "0608ba83",
   "metadata": {},
   "outputs": [],
   "source": [
    "s2 = '삼성 빅데이터 데이터분석 데이터구조 파이썬 시각화 판다스'\n",
    "stop_words = ['데이터구조','판다스']"
   ]
  },
  {
   "cell_type": "code",
   "execution_count": 27,
   "id": "ae6c209e",
   "metadata": {},
   "outputs": [
    {
     "data": {
      "text/plain": [
       "['삼성', '빅데이터', '데이터분석', '파이썬', '시각화']"
      ]
     },
     "execution_count": 27,
     "metadata": {},
     "output_type": "execute_result"
    }
   ],
   "source": [
    "w_list = []\n",
    "for w in s2.split(' '):\n",
    "    if w not in stop_words:\n",
    "        w_list.append(w)\n",
    "w_list"
   ]
  },
  {
   "cell_type": "markdown",
   "id": "3511ce06",
   "metadata": {},
   "source": [
    "#### [실습] 각자 본인의 아래 정보를 딕셔너리로 저장\n",
    "\n",
    "(딕셔너리의 값(value)에 리스트를 넣는 것도 가능)\n",
    "\n",
    "* 이름\n",
    "* 부서\n",
    "* 연차\n",
    "* 관심메뉴 3개(리스트로 구성)\n",
    "\n",
    "#### [실습] 저장된 딕셔너리에서 관심메뉴의 2번째 메뉴 가져와 출력\n"
   ]
  },
  {
   "cell_type": "code",
   "execution_count": 13,
   "id": "31e45ebc",
   "metadata": {},
   "outputs": [],
   "source": [
    "my_info = {}"
   ]
  },
  {
   "cell_type": "code",
   "execution_count": 14,
   "id": "afe9d0d0",
   "metadata": {},
   "outputs": [
    {
     "data": {
      "text/plain": [
       "'제육'"
      ]
     },
     "execution_count": 14,
     "metadata": {},
     "output_type": "execute_result"
    }
   ],
   "source": [
    "my_info['이름'] = '최원칠'\n",
    "my_info['부서'] = 'AIOT'\n",
    "my_info['연차'] = '4'\n",
    "my_info['관심메뉴'] = ['돈까스','제육','치킨']\n",
    "my_info['관심메뉴'][1]"
   ]
  },
  {
   "cell_type": "markdown",
   "id": "b22ccba5",
   "metadata": {},
   "source": [
    "#### [실습] 다음 배열에서 첫번째 축의 두번째, 두번째 축의 첫번째~세번째, 세번째 축의 첫번째 에 해당하는 데이터를 출력 "
   ]
  },
  {
   "cell_type": "code",
   "execution_count": 11,
   "id": "58201ae8",
   "metadata": {},
   "outputs": [],
   "source": [
    "import numpy as np\n",
    "arr = np.array([[[1,2,3,4],\n",
    "                [5,6,7,8],\n",
    "                [9,1,2,3]],\n",
    "               [[4,5,6,7],\n",
    "                [8,9,1,2],\n",
    "                [3,4,5,6]],\n",
    "               [[7,8,9,1],\n",
    "                [2,3,4,5],\n",
    "                [6,7,8,9]]])"
   ]
  },
  {
   "cell_type": "code",
   "execution_count": 12,
   "id": "f3f4f8a8",
   "metadata": {},
   "outputs": [
    {
     "data": {
      "text/plain": [
       "array([4, 8, 3])"
      ]
     },
     "execution_count": 12,
     "metadata": {},
     "output_type": "execute_result"
    }
   ],
   "source": [
    "arr[1,0:3,0]"
   ]
  },
  {
   "cell_type": "markdown",
   "id": "574eabe7",
   "metadata": {},
   "source": [
    "<br>\n",
    "\n",
    "#### [실습] data 폴더의 PulseRates.csv를 불러와서 df_pr로 저장하기\n",
    "\n",
    "이후 자유롭게 데이터 탐색하기"
   ]
  },
  {
   "cell_type": "code",
   "execution_count": 34,
   "id": "174d3b09",
   "metadata": {},
   "outputs": [
    {
     "data": {
      "text/html": [
       "<div>\n",
       "<style scoped>\n",
       "    .dataframe tbody tr th:only-of-type {\n",
       "        vertical-align: middle;\n",
       "    }\n",
       "\n",
       "    .dataframe tbody tr th {\n",
       "        vertical-align: top;\n",
       "    }\n",
       "\n",
       "    .dataframe thead th {\n",
       "        text-align: right;\n",
       "    }\n",
       "</style>\n",
       "<table border=\"1\" class=\"dataframe\">\n",
       "  <thead>\n",
       "    <tr style=\"text-align: right;\">\n",
       "      <th></th>\n",
       "      <th>Height</th>\n",
       "      <th>Weight</th>\n",
       "      <th>Age</th>\n",
       "      <th>Gender</th>\n",
       "      <th>Smokes</th>\n",
       "      <th>Alcohol</th>\n",
       "      <th>Exercise</th>\n",
       "      <th>Ran</th>\n",
       "      <th>Pulse1</th>\n",
       "      <th>Pulse2</th>\n",
       "      <th>Year</th>\n",
       "    </tr>\n",
       "  </thead>\n",
       "  <tbody>\n",
       "    <tr>\n",
       "      <th>0</th>\n",
       "      <td>173</td>\n",
       "      <td>57.0</td>\n",
       "      <td>18</td>\n",
       "      <td>2</td>\n",
       "      <td>2</td>\n",
       "      <td>1</td>\n",
       "      <td>2</td>\n",
       "      <td>2</td>\n",
       "      <td>86.0</td>\n",
       "      <td>88.0</td>\n",
       "      <td>93</td>\n",
       "    </tr>\n",
       "    <tr>\n",
       "      <th>1</th>\n",
       "      <td>179</td>\n",
       "      <td>58.0</td>\n",
       "      <td>19</td>\n",
       "      <td>2</td>\n",
       "      <td>2</td>\n",
       "      <td>1</td>\n",
       "      <td>2</td>\n",
       "      <td>1</td>\n",
       "      <td>82.0</td>\n",
       "      <td>150.0</td>\n",
       "      <td>93</td>\n",
       "    </tr>\n",
       "    <tr>\n",
       "      <th>2</th>\n",
       "      <td>167</td>\n",
       "      <td>62.0</td>\n",
       "      <td>18</td>\n",
       "      <td>2</td>\n",
       "      <td>2</td>\n",
       "      <td>1</td>\n",
       "      <td>1</td>\n",
       "      <td>1</td>\n",
       "      <td>96.0</td>\n",
       "      <td>176.0</td>\n",
       "      <td>93</td>\n",
       "    </tr>\n",
       "    <tr>\n",
       "      <th>3</th>\n",
       "      <td>195</td>\n",
       "      <td>84.0</td>\n",
       "      <td>18</td>\n",
       "      <td>1</td>\n",
       "      <td>2</td>\n",
       "      <td>1</td>\n",
       "      <td>1</td>\n",
       "      <td>2</td>\n",
       "      <td>71.0</td>\n",
       "      <td>73.0</td>\n",
       "      <td>93</td>\n",
       "    </tr>\n",
       "    <tr>\n",
       "      <th>4</th>\n",
       "      <td>173</td>\n",
       "      <td>64.0</td>\n",
       "      <td>18</td>\n",
       "      <td>2</td>\n",
       "      <td>2</td>\n",
       "      <td>1</td>\n",
       "      <td>3</td>\n",
       "      <td>2</td>\n",
       "      <td>90.0</td>\n",
       "      <td>88.0</td>\n",
       "      <td>93</td>\n",
       "    </tr>\n",
       "  </tbody>\n",
       "</table>\n",
       "</div>"
      ],
      "text/plain": [
       "   Height  Weight  Age  Gender  Smokes  Alcohol  Exercise  Ran  Pulse1  \\\n",
       "0     173    57.0   18       2       2        1         2    2    86.0   \n",
       "1     179    58.0   19       2       2        1         2    1    82.0   \n",
       "2     167    62.0   18       2       2        1         1    1    96.0   \n",
       "3     195    84.0   18       1       2        1         1    2    71.0   \n",
       "4     173    64.0   18       2       2        1         3    2    90.0   \n",
       "\n",
       "   Pulse2  Year  \n",
       "0    88.0    93  \n",
       "1   150.0    93  \n",
       "2   176.0    93  \n",
       "3    73.0    93  \n",
       "4    88.0    93  "
      ]
     },
     "execution_count": 34,
     "metadata": {},
     "output_type": "execute_result"
    }
   ],
   "source": [
    "import pandas as pd\n",
    "df_pr = pd.read_csv('./data/PulseRates.csv')\n",
    "df_pr.head()"
   ]
  },
  {
   "cell_type": "code",
   "execution_count": 35,
   "id": "12708561",
   "metadata": {},
   "outputs": [
    {
     "data": {
      "text/plain": [
       "(110, 11)"
      ]
     },
     "execution_count": 35,
     "metadata": {},
     "output_type": "execute_result"
    }
   ],
   "source": [
    "df_pr.shape"
   ]
  },
  {
   "cell_type": "code",
   "execution_count": 37,
   "id": "da9459ee",
   "metadata": {},
   "outputs": [
    {
     "data": {
      "text/plain": [
       "Index(['Height', 'Weight', 'Age', 'Gender', 'Smokes', 'Alcohol', 'Exercise',\n",
       "       'Ran', 'Pulse1', 'Pulse2', 'Year'],\n",
       "      dtype='object')"
      ]
     },
     "execution_count": 37,
     "metadata": {},
     "output_type": "execute_result"
    }
   ],
   "source": [
    "df_pr.columns"
   ]
  },
  {
   "cell_type": "code",
   "execution_count": 39,
   "id": "fc2285cb",
   "metadata": {},
   "outputs": [
    {
     "data": {
      "text/plain": [
       "Height        int64\n",
       "Weight      float64\n",
       "Age           int64\n",
       "Gender        int64\n",
       "Smokes        int64\n",
       "Alcohol       int64\n",
       "Exercise      int64\n",
       "Ran           int64\n",
       "Pulse1      float64\n",
       "Pulse2      float64\n",
       "Year          int64\n",
       "dtype: object"
      ]
     },
     "execution_count": 39,
     "metadata": {},
     "output_type": "execute_result"
    }
   ],
   "source": [
    "df_pr.dtypes"
   ]
  },
  {
   "cell_type": "markdown",
   "id": "4f1d2926",
   "metadata": {},
   "source": [
    "\n",
    "<br>  \n",
    "\n",
    "####  [실습] 아래의 사이트에서 관심있는 데이터를 탐색하기\n",
    "\n",
    "* csv 파일 중 인코딩 관련 에러가 발생할 경우 read_csv( )안에서 `encoding='CP949'` 옵션 추가\n",
    "* xlsx의 경우 다운로드한 파일을 열어서 읽기 전용을 해제해야 할 수도 있음\n",
    "\n",
    "\n",
    "\n",
    "[공공데이터포털](https://www.data.go.kr/index.do)\n",
    "\n",
    "[서울 열린데이터 광장](http://data.seoul.go.kr/)\n",
    "\n",
    "[kaggle](https://www.kaggle.com/)\n",
    "\n",
    "\n",
    "\n"
   ]
  },
  {
   "cell_type": "code",
   "execution_count": null,
   "id": "f64ae53f",
   "metadata": {},
   "outputs": [],
   "source": [
    "import pandas as pd\n"
   ]
  },
  {
   "cell_type": "code",
   "execution_count": null,
   "id": "0ecba17d",
   "metadata": {},
   "outputs": [],
   "source": []
  },
  {
   "attachments": {
    "image-2.png": {
     "image/png": "[encoded data removed]"
    }
   },
   "cell_type": "markdown",
   "id": "b4297fe6",
   "metadata": {},
   "source": [
    "<br>\n",
    "\n",
    "#### [실습] 다음 리스트형태의 데이터를 활용하여 컬럼이 score1, score2, score3, total 이고 인덱스가 4명의 이름인 DataFrame을 생성 \n",
    "total컬럼에는 현재 인덱스의 스코어 총합이 입력\n",
    "![image-2.png](attachment:image-2.png)"
   ]
  },
  {
   "cell_type": "markdown",
   "id": "bad0a996",
   "metadata": {},
   "source": [
    "\n",
    "#### [실습] 결과 DataFrame에서 연진에 해당하는 점수들만 출력"
   ]
  },
  {
   "cell_type": "code",
   "execution_count": 47,
   "id": "58e523a8",
   "metadata": {},
   "outputs": [],
   "source": [
    "n_list = ['동은','연진','여정','재준']\n",
    "score1 = [76,62,64,62]\n",
    "score2 = [56,74,51,44]\n",
    "score3 = [81,35,74,63]\n"
   ]
  },
  {
   "cell_type": "code",
   "execution_count": 50,
   "id": "082a665c",
   "metadata": {
    "scrolled": false
   },
   "outputs": [
    {
     "data": {
      "text/html": [
       "<div>\n",
       "<style scoped>\n",
       "    .dataframe tbody tr th:only-of-type {\n",
       "        vertical-align: middle;\n",
       "    }\n",
       "\n",
       "    .dataframe tbody tr th {\n",
       "        vertical-align: top;\n",
       "    }\n",
       "\n",
       "    .dataframe thead th {\n",
       "        text-align: right;\n",
       "    }\n",
       "</style>\n",
       "<table border=\"1\" class=\"dataframe\">\n",
       "  <thead>\n",
       "    <tr style=\"text-align: right;\">\n",
       "      <th></th>\n",
       "      <th>score1</th>\n",
       "      <th>score2</th>\n",
       "      <th>score3</th>\n",
       "      <th>total</th>\n",
       "    </tr>\n",
       "  </thead>\n",
       "  <tbody>\n",
       "    <tr>\n",
       "      <th>동은</th>\n",
       "      <td>76</td>\n",
       "      <td>56</td>\n",
       "      <td>81</td>\n",
       "      <td>213</td>\n",
       "    </tr>\n",
       "    <tr>\n",
       "      <th>연진</th>\n",
       "      <td>62</td>\n",
       "      <td>74</td>\n",
       "      <td>35</td>\n",
       "      <td>171</td>\n",
       "    </tr>\n",
       "    <tr>\n",
       "      <th>여정</th>\n",
       "      <td>64</td>\n",
       "      <td>51</td>\n",
       "      <td>74</td>\n",
       "      <td>189</td>\n",
       "    </tr>\n",
       "    <tr>\n",
       "      <th>재준</th>\n",
       "      <td>62</td>\n",
       "      <td>44</td>\n",
       "      <td>63</td>\n",
       "      <td>169</td>\n",
       "    </tr>\n",
       "  </tbody>\n",
       "</table>\n",
       "</div>"
      ],
      "text/plain": [
       "    score1  score2  score3  total\n",
       "동은      76      56      81    213\n",
       "연진      62      74      35    171\n",
       "여정      64      51      74    189\n",
       "재준      62      44      63    169"
      ]
     },
     "execution_count": 50,
     "metadata": {},
     "output_type": "execute_result"
    }
   ],
   "source": [
    "import pandas as pd\n",
    "\n",
    "total = []\n",
    "for i in range(4):\n",
    "    st = score1[i] + score2[i] +score3[i]\n",
    "    total.append(st)\n",
    "\n",
    "df = pd.DataFrame({'score1':score1, \n",
    "                   'score2':score2, \n",
    "                   'score3':score3,\n",
    "                   'total':total}, \n",
    "                  index = n_list)\n",
    "df"
   ]
  },
  {
   "cell_type": "code",
   "execution_count": 59,
   "id": "78efe4aa",
   "metadata": {
    "scrolled": true
   },
   "outputs": [
    {
     "data": {
      "text/plain": [
       "score1     62\n",
       "score2     74\n",
       "score3     35\n",
       "total     171\n",
       "Name: 연진, dtype: int64"
      ]
     },
     "execution_count": 59,
     "metadata": {},
     "output_type": "execute_result"
    }
   ],
   "source": [
    "df.loc['연진']"
   ]
  },
  {
   "attachments": {
    "image-2.png": {
     "image/png": "[encoded data removed]"
    }
   },
   "cell_type": "markdown",
   "id": "599cd201",
   "metadata": {},
   "source": [
    "#### [심화] 다음 딕셔너리들을 활용하여 출력결과를 만드세요\n",
    "    \n",
    "    출력결과\n",
    "![image-2.png](attachment:image-2.png)"
   ]
  },
  {
   "cell_type": "code",
   "execution_count": 33,
   "id": "3bd3b0b7",
   "metadata": {},
   "outputs": [],
   "source": [
    "import pandas as pd\n",
    "\n",
    "users = {'123':'삼성',\n",
    "         '124':'파이썬',\n",
    "         '125':'데이터분석',}\n",
    "\n",
    "products = {'a':['노트북', 200],\n",
    "            'b':['자전거', 15],\n",
    "            'c':['샴푸', 2],\n",
    "            'd':['셔츠', 1],\n",
    "            'e':['초코렛', 1]}\n",
    "\n",
    "orders = [{'user_id':'123', 'products':['a','c']},\n",
    "         {'user_id':'125', 'products':['e']},\n",
    "         {'user_id':'124', 'products':['b','d','e']}]"
   ]
  },
  {
   "cell_type": "code",
   "execution_count": 35,
   "id": "b9a2f645",
   "metadata": {
    "scrolled": false
   },
   "outputs": [
    {
     "data": {
      "text/html": [
       "<div>\n",
       "<style scoped>\n",
       "    .dataframe tbody tr th:only-of-type {\n",
       "        vertical-align: middle;\n",
       "    }\n",
       "\n",
       "    .dataframe tbody tr th {\n",
       "        vertical-align: top;\n",
       "    }\n",
       "\n",
       "    .dataframe thead th {\n",
       "        text-align: right;\n",
       "    }\n",
       "</style>\n",
       "<table border=\"1\" class=\"dataframe\">\n",
       "  <thead>\n",
       "    <tr style=\"text-align: right;\">\n",
       "      <th></th>\n",
       "      <th>주문자</th>\n",
       "      <th>상품명</th>\n",
       "      <th>가격</th>\n",
       "    </tr>\n",
       "  </thead>\n",
       "  <tbody>\n",
       "    <tr>\n",
       "      <th>0</th>\n",
       "      <td>삼성</td>\n",
       "      <td>노트북</td>\n",
       "      <td>200</td>\n",
       "    </tr>\n",
       "    <tr>\n",
       "      <th>1</th>\n",
       "      <td>삼성</td>\n",
       "      <td>샴푸</td>\n",
       "      <td>2</td>\n",
       "    </tr>\n",
       "    <tr>\n",
       "      <th>2</th>\n",
       "      <td>데이터분석</td>\n",
       "      <td>초코렛</td>\n",
       "      <td>1</td>\n",
       "    </tr>\n",
       "    <tr>\n",
       "      <th>3</th>\n",
       "      <td>파이썬</td>\n",
       "      <td>자전거</td>\n",
       "      <td>15</td>\n",
       "    </tr>\n",
       "    <tr>\n",
       "      <th>4</th>\n",
       "      <td>파이썬</td>\n",
       "      <td>셔츠</td>\n",
       "      <td>1</td>\n",
       "    </tr>\n",
       "    <tr>\n",
       "      <th>5</th>\n",
       "      <td>파이썬</td>\n",
       "      <td>초코렛</td>\n",
       "      <td>1</td>\n",
       "    </tr>\n",
       "  </tbody>\n",
       "</table>\n",
       "</div>"
      ],
      "text/plain": [
       "     주문자  상품명   가격\n",
       "0     삼성  노트북  200\n",
       "1     삼성   샴푸    2\n",
       "2  데이터분석  초코렛    1\n",
       "3    파이썬  자전거   15\n",
       "4    파이썬   셔츠    1\n",
       "5    파이썬  초코렛    1"
      ]
     },
     "execution_count": 35,
     "metadata": {},
     "output_type": "execute_result"
    }
   ],
   "source": [
    "delivery = []\n",
    "for o in orders:\n",
    "    name = users[o['user_id']]\n",
    "    for p in o['products']:\n",
    "        pname = products[p][0]\n",
    "        price = products[p][1]\n",
    "        delivery.append({'주문자':name,'상품명':pname,'가격':price})\n",
    "pd.DataFrame(delivery)        "
   ]
  },
  {
   "cell_type": "code",
   "execution_count": null,
   "id": "6a1b4ee1",
   "metadata": {},
   "outputs": [],
   "source": []
  }
 ],
 "metadata": {
  "kernelspec": {
   "display_name": "Python 3 (ipykernel)",
   "language": "python",
   "name": "python3"
  },
  "language_info": {
   "codemirror_mode": {
    "name": "ipython",
    "version": 3
   },
   "file_extension": ".py",
   "mimetype": "text/x-python",
   "name": "python",
   "nbconvert_exporter": "python",
   "pygments_lexer": "ipython3",
   "version": "3.10.8"
  }
 },
 "nbformat": 4,
 "nbformat_minor": 5
}
